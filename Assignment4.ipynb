{
 "cells": [
  {
   "cell_type": "code",
   "execution_count": 1,
   "metadata": {},
   "outputs": [],
   "source": [
    "from datascience import *\n",
    "import numpy as np\n",
    "%matplotlib inline\n",
    "import matplotlib.pyplot as plt"
   ]
  },
  {
   "cell_type": "code",
   "execution_count": 2,
   "metadata": {},
   "outputs": [],
   "source": [
    "#Exercise 6"
   ]
  },
  {
   "cell_type": "code",
   "execution_count": 3,
   "metadata": {},
   "outputs": [],
   "source": [
    "age = Table.read_table('Ages.csv')\n"
   ]
  },
  {
   "cell_type": "code",
   "execution_count": 4,
   "metadata": {},
   "outputs": [
    {
     "name": "stdout",
     "output_type": "stream",
     "text": [
      "We can have a scatter,a bar chart,a line graph,a histogram. But the most suitable one is histogram. \n"
     ]
    }
   ],
   "source": [
    "print('We can have a scatter,a bar chart,a line graph,a histogram. But the most suitable one is histogram. ')"
   ]
  },
  {
   "cell_type": "code",
   "execution_count": 5,
   "metadata": {},
   "outputs": [
    {
     "data": {
      "image/png": "[encoded data removed]",
      "text/plain": [
       "<Figure size 432x288 with 1 Axes>"
      ]
     },
     "metadata": {
      "needs_background": "light"
     },
     "output_type": "display_data"
    }
   ],
   "source": [
    "age.hist('Age',bins=np.arange(0,100,5),normed=False)\n",
    "a =plt.ylabel('Count')"
   ]
  },
  {
   "cell_type": "code",
   "execution_count": 6,
   "metadata": {},
   "outputs": [
    {
     "data": {
      "image/png": "[encoded data removed]",
      "text/plain": [
       "<Figure size 432x288 with 1 Axes>"
      ]
     },
     "metadata": {
      "needs_background": "light"
     },
     "output_type": "display_data"
    }
   ],
   "source": [
    "un= make_array(0,10,20,50,80,100)\n",
    "age.hist('Age', bins=un)"
   ]
  },
  {
   "cell_type": "code",
   "execution_count": 7,
   "metadata": {},
   "outputs": [
    {
     "name": "stdout",
     "output_type": "stream",
     "text": [
      "The first plot has xlabel age in a range of 5 from 0-100 and ylabel count, the number. It shows the distribution of client's \n",
      "number directly.The next plot has the xlabel age, I tried to divide my data to match with the 'between 0-10','between 10-20', 'betwwen 20-50','between 50-80','between 80-100' because of the first polt and what we call 'child', 'teenager'and so on. The ylabel is the\n",
      "percent per unit to meet the requirement of a histogram. \n"
     ]
    }
   ],
   "source": [
    "print(\"The first plot has xlabel age in a range of 5 from 0-100 and ylabel count, the number. It shows the distribution of client's \\nnumber directly.The next plot has the xlabel age, I tried to divide my data to match with the 'between 0-10','between 10-20', 'betwwen 20-50','between 50-80','between 80-100' because of the first polt and what we call 'child', 'teenager'and so on. The ylabel is the\\npercent per unit to meet the requirement of a histogram. \")"
   ]
  },
  {
   "cell_type": "code",
   "execution_count": 8,
   "metadata": {},
   "outputs": [
    {
     "name": "stdout",
     "output_type": "stream",
     "text": [
      "The plots show that many clients are between 10-20. We might guess that many parents buy insurance for their children or the schools might \n",
      "ask the children to buy insurance. The company might improve the service of these clients to make more profits. The plots show that the \n",
      "comapny do not have many clients beteen 80-100. The comapny might not willing to provide insurance for the clients or the insurance might \n",
      "not good enough for clients. They should think more about this because we need to do something for the aging society.\n"
     ]
    }
   ],
   "source": [
    "print('The plots show that many clients are between 10-20. We might guess that many parents buy insurance for their children or the schools might \\nask the children to buy insurance. The company might improve the service of these clients to make more profits. The plots show that the \\ncomapny do not have many clients beteen 80-100. The comapny might not willing to provide insurance for the clients or the insurance might \\nnot good enough for clients. They should think more about this because we need to do something for the aging society.')"
   ]
  },
  {
   "cell_type": "code",
   "execution_count": 9,
   "metadata": {},
   "outputs": [],
   "source": [
    "#Exercise7"
   ]
  },
  {
   "cell_type": "code",
   "execution_count": 10,
   "metadata": {},
   "outputs": [],
   "source": [
    "flower = Table.read_table('Flowers.csv')"
   ]
  },
  {
   "cell_type": "code",
   "execution_count": 11,
   "metadata": {},
   "outputs": [
    {
     "data": {
      "text/html": [
       "<table border=\"1\" class=\"dataframe\">\n",
       "    <thead>\n",
       "        <tr>\n",
       "            <th>Color</th> <th>count</th>\n",
       "        </tr>\n",
       "    </thead>\n",
       "    <tbody>\n",
       "        <tr>\n",
       "            <td>blue  </td> <td>6    </td>\n",
       "        </tr>\n",
       "        <tr>\n",
       "            <td>pink  </td> <td>1    </td>\n",
       "        </tr>\n",
       "        <tr>\n",
       "            <td>purple</td> <td>12   </td>\n",
       "        </tr>\n",
       "        <tr>\n",
       "            <td>red   </td> <td>21   </td>\n",
       "        </tr>\n",
       "        <tr>\n",
       "            <td>white </td> <td>13   </td>\n",
       "        </tr>\n",
       "        <tr>\n",
       "            <td>yellow</td> <td>47   </td>\n",
       "        </tr>\n",
       "    </tbody>\n",
       "</table>"
      ],
      "text/plain": [
       "<IPython.core.display.HTML object>"
      ]
     },
     "metadata": {},
     "output_type": "display_data"
    }
   ],
   "source": [
    "flow =flower.group('Color')\n",
    "flow.show()"
   ]
  },
  {
   "cell_type": "code",
   "execution_count": 12,
   "metadata": {},
   "outputs": [
    {
     "data": {
      "image/png": "[encoded data removed]",
      "text/plain": [
       "<Figure size 432x288 with 1 Axes>"
      ]
     },
     "metadata": {
      "needs_background": "light"
     },
     "output_type": "display_data"
    }
   ],
   "source": [
    "flow.barh('Color')"
   ]
  },
  {
   "cell_type": "code",
   "execution_count": 13,
   "metadata": {},
   "outputs": [
    {
     "name": "stdout",
     "output_type": "stream",
     "text": [
      "We can put it into a descending order.\n"
     ]
    }
   ],
   "source": [
    "print('We can put it into a descending order.')"
   ]
  },
  {
   "cell_type": "code",
   "execution_count": 14,
   "metadata": {},
   "outputs": [
    {
     "data": {
      "image/png": "[encoded data removed]",
      "text/plain": [
       "<Figure size 432x288 with 1 Axes>"
      ]
     },
     "metadata": {
      "needs_background": "light"
     },
     "output_type": "display_data"
    }
   ],
   "source": [
    "flow.sort('count', descending = True).barh('Color')"
   ]
  }
 ],
 "metadata": {
  "kernelspec": {
   "display_name": "Python 3",
   "language": "python",
   "name": "python3"
  },
  "language_info": {
   "codemirror_mode": {
    "name": "ipython",
    "version": 3
   },
   "file_extension": ".py",
   "mimetype": "text/x-python",
   "name": "python",
   "nbconvert_exporter": "python",
   "pygments_lexer": "ipython3",
   "version": "3.7.3"
  }
 },
 "nbformat": 4,
 "nbformat_minor": 2
}
