{
 "cells": [
  {
   "cell_type": "code",
   "execution_count": 1,
   "metadata": {},
   "outputs": [],
   "source": [
    "from datascience import *\n",
    "import matplotlib\n",
    "matplotlib.use('Agg', warn=False)\n",
    "%matplotlib inline\n",
    "import matplotlib.pyplot as plt\n",
    "plt.style.use('fivethirtyeight')\n",
    "import numpy as np"
   ]
  },
  {
   "cell_type": "code",
   "execution_count": 2,
   "metadata": {},
   "outputs": [],
   "source": [
    "coinOutcomes = make_array('H', 'T') "
   ]
  },
  {
   "cell_type": "code",
   "execution_count": 3,
   "metadata": {},
   "outputs": [],
   "source": [
    "numberOfTosses = 10\n",
    "def lengthOfK(numberOfTosses):\n",
    "    coin = make_array('H', 'T')\n",
    "    a = np.random.choice(coinOutcomes, numberOfTosses)\n",
    "    b=1\n",
    "    c=1\n",
    "    for i in np.arange(1,numberOfTosses,1):\n",
    "        if a[i]==a[i-1]:\n",
    "            b = b+1\n",
    "            c = max(c,b)\n",
    "        else:\n",
    "            b = 1\n",
    "            c =max(c,b)\n",
    "    return c\n"
   ]
  },
  {
   "cell_type": "code",
   "execution_count": 4,
   "metadata": {},
   "outputs": [],
   "source": [
    "def collect_sample(sample_size, numberOfTosses):\n",
    "    num = np.empty(sample_size)\n",
    "    for i in range(sample_size):\n",
    "        num[i] = lengthOfK(numberOfTosses)\n",
    "    return num"
   ]
  },
  {
   "cell_type": "code",
   "execution_count": 5,
   "metadata": {},
   "outputs": [],
   "source": [
    "sample_size  = 1000\n",
    "k=collect_sample(sample_size, numberOfTosses)"
   ]
  },
  {
   "cell_type": "code",
   "execution_count": 6,
   "metadata": {},
   "outputs": [
    {
     "data": {
      "text/plain": [
       "3.744"
      ]
     },
     "execution_count": 6,
     "metadata": {},
     "output_type": "execute_result"
    }
   ],
   "source": [
    "k.mean()"
   ]
  },
  {
   "cell_type": "code",
   "execution_count": 7,
   "metadata": {},
   "outputs": [
    {
     "data": {
      "text/plain": [
       "7.044"
      ]
     },
     "execution_count": 7,
     "metadata": {},
     "output_type": "execute_result"
    }
   ],
   "source": [
    "numberOfTosses = 100\n",
    "k=collect_sample(sample_size, numberOfTosses)\n",
    "k.mean()"
   ]
  },
  {
   "cell_type": "code",
   "execution_count": 8,
   "metadata": {},
   "outputs": [
    {
     "data": {
      "text/plain": [
       "10.339"
      ]
     },
     "execution_count": 8,
     "metadata": {},
     "output_type": "execute_result"
    }
   ],
   "source": [
    "numberOfTosses = 1000\n",
    "k=collect_sample(sample_size, numberOfTosses)\n",
    "k.mean()"
   ]
  },
  {
   "cell_type": "code",
   "execution_count": 9,
   "metadata": {},
   "outputs": [
    {
     "data": {
      "text/plain": [
       "13.62"
      ]
     },
     "execution_count": 9,
     "metadata": {},
     "output_type": "execute_result"
    }
   ],
   "source": [
    "numberOfTosses = 10000\n",
    "k=collect_sample(sample_size, numberOfTosses)\n",
    "k.mean()"
   ]
  },
  {
   "cell_type": "code",
   "execution_count": 10,
   "metadata": {},
   "outputs": [
    {
     "data": {
      "text/plain": [
       "16.995"
      ]
     },
     "execution_count": 10,
     "metadata": {},
     "output_type": "execute_result"
    }
   ],
   "source": [
    "numberOfTosses = 100000\n",
    "k=collect_sample(sample_size, numberOfTosses)\n",
    "k.mean()"
   ]
  },
  {
   "cell_type": "code",
   "execution_count": 11,
   "metadata": {},
   "outputs": [
    {
     "name": "stdout",
     "output_type": "stream",
     "text": [
      "By using samplesize =1000, we can say that it is normally distributed because of large number(I used 100000 to calucuted also),so we can use the mean to be the expected length. Calculating the mean of the length k of 10, 100, 1000,10000, we can know that the expected length of the longest streak when flipping 10,100,1000,10000,100000 coins is 3.7, 7.0, 10.3, 13.6, 17.0. We can round it to integer to match the reality: 4, 7, 10, 14, 17.\n"
     ]
    }
   ],
   "source": [
    "print('By using samplesize =1000, we can say that it is normally distributed because of large number(I used 100000 to calucuted also),so we can use the mean to be the expected length. Calculating the mean of the length k of 10, 100, 1000,10000, we can know that the expected length of the longest streak when flipping 10,100,1000,10000,100000 coins is 3.7, 7.0, 10.3, 13.6, 17.0. We can round it to integer to match the reality: 4, 7, 10, 14, 17.')"
   ]
  },
  {
   "cell_type": "code",
   "execution_count": null,
   "metadata": {},
   "outputs": [],
   "source": []
  }
 ],
 "metadata": {
  "kernelspec": {
   "display_name": "Python 3",
   "language": "python",
   "name": "python3"
  },
  "language_info": {
   "codemirror_mode": {
    "name": "ipython",
    "version": 3
   },
   "file_extension": ".py",
   "mimetype": "text/x-python",
   "name": "python",
   "nbconvert_exporter": "python",
   "pygments_lexer": "ipython3",
   "version": "3.7.3"
  }
 },
 "nbformat": 4,
 "nbformat_minor": 2
}
