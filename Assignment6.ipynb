{
 "cells": [
  {
   "cell_type": "code",
   "execution_count": 1,
   "metadata": {},
   "outputs": [],
   "source": [
    "from datascience import *\n",
    "import numpy as np\n",
    "import math\n",
    "import scipy.stats as stats\n",
    "\n",
    "import matplotlib\n",
    "%matplotlib inline\n",
    "import matplotlib.pyplot as plt\n",
    "plt.style.use('fivethirtyeight')"
   ]
  },
  {
   "cell_type": "markdown",
   "metadata": {},
   "source": [
    "## Problem 1. "
   ]
  },
  {
   "cell_type": "markdown",
   "metadata": {},
   "source": [
    "Chronic exposure to asbestos fiber is a well-known health hazard. The article “The Acute Effects of Chrysotile Asbestos Exposure on Lung Function in the journal Envir. Res., 1978: 360-372 reports results of a study based on a sample of construction workers who had been exposed to asbestos over a prolonged period. \n",
    "\n",
    "Among the data given in the article were the following (ordered) values of pulmonary compliance (cm3/cm H20) for each of 16 subjects eight months after the exposure period (pulmonary compliance is a measure of lung elasticity, or how effectively the lungs are able to inhale and exhale):"
   ]
  },
  {
   "cell_type": "code",
   "execution_count": 2,
   "metadata": {},
   "outputs": [],
   "source": [
    "PulComp = make_array(167.9, 180.8, 184.8, 189.8, 194.8, 200.2, \n",
    "                     201.9, 206.9, 207.2, 208.4, 226.3, 227.7, \n",
    "                     228.5, 232.4, 239.8, 258.6)"
   ]
  },
  {
   "cell_type": "markdown",
   "metadata": {},
   "source": [
    "#### Q1. (2pts) Is the population distribution is normal? We didn't go over the normality test in class. But you can look at the documentation here https://docs.scipy.org/doc/scipy/reference/generated/scipy.stats.normaltest.html"
   ]
  },
  {
   "cell_type": "code",
   "execution_count": 3,
   "metadata": {},
   "outputs": [
    {
     "name": "stderr",
     "output_type": "stream",
     "text": [
      "C:\\Users\\Yujia\\Anaconda3\\lib\\site-packages\\scipy\\stats\\stats.py:1416: UserWarning: kurtosistest only valid for n>=20 ... continuing anyway, n=16\n",
      "  \"anyway, n=%i\" % int(n))\n"
     ]
    },
    {
     "data": {
      "text/plain": [
       "NormaltestResult(statistic=0.2455672974202457, pvalue=0.884454994841554)"
      ]
     },
     "execution_count": 3,
     "metadata": {},
     "output_type": "execute_result"
    }
   ],
   "source": [
    "stats.normaltest(PulComp, axis=0, nan_policy='propagate')"
   ]
  },
  {
   "cell_type": "markdown",
   "metadata": {},
   "source": [
    "The population distribution is normal. The p value is larger than a, we can not reject that it is normal distribution."
   ]
  },
  {
   "cell_type": "markdown",
   "metadata": {},
   "source": [
    "#### Q2. (3pts) Compute a 95% confidence interval for the true average pulmonary compliance after such exposure. Show all work for full credit and justify using a z or t critical value."
   ]
  },
  {
   "cell_type": "markdown",
   "metadata": {},
   "source": [
    "We should use t critical value for n = 16 ≤ 30."
   ]
  },
  {
   "cell_type": "code",
   "execution_count": 4,
   "metadata": {},
   "outputs": [
    {
     "data": {
      "text/plain": [
       "209.75"
      ]
     },
     "execution_count": 4,
     "metadata": {},
     "output_type": "execute_result"
    }
   ],
   "source": [
    "alpha = 0.05\n",
    "\n",
    "PulCompmean = PulComp.mean()\n",
    "PulCompmean\n"
   ]
  },
  {
   "cell_type": "code",
   "execution_count": 5,
   "metadata": {},
   "outputs": [
    {
     "data": {
      "text/plain": [
       "6.039046558301512"
      ]
     },
     "execution_count": 5,
     "metadata": {},
     "output_type": "execute_result"
    }
   ],
   "source": [
    "PulComp_mean_std = stats.sem(PulComp)\n",
    "PulComp_mean_std"
   ]
  },
  {
   "cell_type": "code",
   "execution_count": 6,
   "metadata": {},
   "outputs": [
    {
     "data": {
      "text/plain": [
       "2.131449545559323"
      ]
     },
     "execution_count": 6,
     "metadata": {},
     "output_type": "execute_result"
    }
   ],
   "source": [
    "tcrit = stats.t.ppf(1-alpha/2, 15)\n",
    "tcrit"
   ]
  },
  {
   "cell_type": "code",
   "execution_count": 7,
   "metadata": {},
   "outputs": [
    {
     "name": "stdout",
     "output_type": "stream",
     "text": [
      "The 95% Confidence Interval is [196.8781, 222.6219]\n"
     ]
    }
   ],
   "source": [
    "CI_lower = PulCompmean - tcrit*PulComp_mean_std\n",
    "CI_upper = PulCompmean + tcrit*PulComp_mean_std\n",
    "print('The %d%s Confidence Interval is [%.4f, %.4f]'%\n",
    "      (100*(1-alpha), '%', CI_lower, CI_upper))"
   ]
  },
  {
   "cell_type": "markdown",
   "metadata": {},
   "source": [
    "#### Q3. (2pts) A scan of the literature indicates that normal pulmonary compliance is about 250 cm3/cm H20. Is the mean pulmonary compliance from the exposed population statistically significantly different from this hypothetical “normal” value?"
   ]
  },
  {
   "cell_type": "markdown",
   "metadata": {},
   "source": [
    "Yes. Since the normal pulmonary compliance is 250 cm3/cm H20, which is not included in the confidence interval. We can conclude that pulmonary compliance from the exposed population statistically significantly different from this hypothetical “normal” value."
   ]
  },
  {
   "cell_type": "markdown",
   "metadata": {},
   "source": [
    "#### Q4. (3pts) We want to test whether the mean of the exposed group equals the normal group. How would you set up the null hypothesis and alternative hypothesis? What is the p-value? Would you reject the null hypothesis at an significance level of 0.01? "
   ]
  },
  {
   "cell_type": "markdown",
   "metadata": {},
   "source": [
    "The hypothesis are\n",
    "- $H_0$: $\\mu=250$\n",
    "- $H_1$: $\\mu\\neq 250$."
   ]
  },
  {
   "cell_type": "code",
   "execution_count": 8,
   "metadata": {},
   "outputs": [],
   "source": [
    "T_stat = ((PulCompmean - 250)/(PulComp_mean_std))\n",
    "T_stat = abs(T_stat)"
   ]
  },
  {
   "cell_type": "code",
   "execution_count": 9,
   "metadata": {},
   "outputs": [
    {
     "data": {
      "text/plain": [
       "3.7724657568347096e-06"
      ]
     },
     "execution_count": 9,
     "metadata": {},
     "output_type": "execute_result"
    }
   ],
   "source": [
    "p_value = stats.t.sf(T_stat, 15) \n",
    "# sf == survival function, Probability >= T_stat\n",
    "p_value"
   ]
  },
  {
   "cell_type": "markdown",
   "metadata": {},
   "source": [
    "Since p_value <  0.01, we have enough evidence to reject the null hypothesis."
   ]
  },
  {
   "cell_type": "markdown",
   "metadata": {},
   "source": [
    "## Problem 2.\n",
    "\n",
    "An investigator hypothesizes that in people free of diabetes, fasting blood glucose, a risk factor for coronary heart disease, is higher in those who drink at least 2 cups of coffee per day. A cross-sectional study is planned to assess the mean fasting blood glucose levels in people who drink at least two cups of coffee per day. \n",
    "\n",
    "The mean fasting blood glucose level in people free of diabetes is reported as 95.0 mg/dL with a standard deviation of 15 mg/dL. \n",
    "\n",
    "If the mean blood glucose level in people who drink at least 2 cups of coffee per day is 100 mg/dL, this would be important clinically. \n",
    "\n",
    "A one-sided test will be used with a 5% level of significance. "
   ]
  },
  {
   "cell_type": "markdown",
   "metadata": {},
   "source": [
    "#### Q1.  (2pts) Assume we enrolled a total of $n$ subjects. We will reject the null hypothesis if $\\bar X$ is greater than or equal to what value? This should be a funciton of $n$. Note that we are running a *one-sided test*."
   ]
  },
  {
   "cell_type": "markdown",
   "metadata": {},
   "source": [
    "- $H_0$: $\\mu=95$\n",
    "- $H_1$: $\\mu＞95$ \n"
   ]
  },
  {
   "cell_type": "code",
   "execution_count": 10,
   "metadata": {},
   "outputs": [
    {
     "data": {
      "text/plain": [
       "1.6448536269514722"
      ]
     },
     "execution_count": 10,
     "metadata": {},
     "output_type": "execute_result"
    }
   ],
   "source": [
    "population_mean = 95\n",
    "true_mean = 100\n",
    "population_std = 15\n",
    "aloha = 0.05\n",
    "z_crit = stats.norm.ppf(1-alpha) \n",
    "z_crit"
   ]
  },
  {
   "cell_type": "code",
   "execution_count": 11,
   "metadata": {},
   "outputs": [],
   "source": [
    "def X_mean(n):\n",
    "    X_mean = z_crit*(population_std/math.sqrt(n))+ population_mean\n",
    "    return X_mean"
   ]
  },
  {
   "cell_type": "markdown",
   "metadata": {},
   "source": [
    "𝑋¯ should greater than or equal to X_mean when we reject the null hypothesis"
   ]
  },
  {
   "cell_type": "markdown",
   "metadata": {},
   "source": [
    "#### Q2. (3pts) Assume $n=50$. What would be the power of the test?"
   ]
  },
  {
   "cell_type": "code",
   "execution_count": 12,
   "metadata": {},
   "outputs": [],
   "source": [
    "#X_mean(50)"
   ]
  },
  {
   "cell_type": "code",
   "execution_count": 13,
   "metadata": {},
   "outputs": [],
   "source": [
    "number_of_simulation = 10000"
   ]
  },
  {
   "cell_type": "code",
   "execution_count": 14,
   "metadata": {},
   "outputs": [
    {
     "name": "stdout",
     "output_type": "stream",
     "text": [
      "empirical estimate of power = 0.7655\n"
     ]
    }
   ],
   "source": [
    "rejectNull = np.empty(number_of_simulation)\n",
    "for i in range(number_of_simulation):\n",
    "    IQ = np.random.normal(true_mean, 15, 50)      \n",
    "    Z_stat = (IQ.mean()-95)/(15/math.sqrt(50))   \n",
    "    if Z_stat > z_crit:\n",
    "        rejectNull[i] = True\n",
    "    else:\n",
    "        rejectNull[i] = False\n",
    "\n",
    "print('empirical estimate of power =', rejectNull.sum()/number_of_simulation)"
   ]
  },
  {
   "cell_type": "markdown",
   "metadata": {},
   "source": [
    "#### Q3. (2pts) What is the power of the test for a general $n$. This should be a function of $n$."
   ]
  },
  {
   "cell_type": "code",
   "execution_count": 15,
   "metadata": {},
   "outputs": [],
   "source": [
    "def power(n, number_of_simulation):\n",
    "    rejectNull = np.empty(number_of_simulation)\n",
    "    for i in range(number_of_simulation):\n",
    "        IQ = np.random.normal(true_mean, 15, n)      \n",
    "        Z_stat = (IQ.mean()-95)/(15/math.sqrt(n))   \n",
    "        if Z_stat > z_crit:\n",
    "            rejectNull[i] = True\n",
    "        else:\n",
    "            rejectNull[i] = False\n",
    "    return rejectNull.sum()/number_of_simulation"
   ]
  },
  {
   "cell_type": "markdown",
   "metadata": {},
   "source": [
    "#### Q4. (3pts) How many patients should be enrolled in the study to ensure that the power of the test is 80%?"
   ]
  },
  {
   "cell_type": "markdown",
   "metadata": {},
   "source": [
    "100 - Z * 16/math.sqrt(n) = 95 + z_crit * 16/math.sqrt(n)"
   ]
  },
  {
   "cell_type": "code",
   "execution_count": 16,
   "metadata": {},
   "outputs": [
    {
     "data": {
      "text/plain": [
       "55.64301508817791"
      ]
     },
     "execution_count": 16,
     "metadata": {},
     "output_type": "execute_result"
    }
   ],
   "source": [
    "Z = stats.norm.ppf(0.8)\n",
    "n=(Z*3 +z_crit*3)**2\n",
    "n\n"
   ]
  },
  {
   "cell_type": "code",
   "execution_count": 17,
   "metadata": {},
   "outputs": [],
   "source": [
    "n =56"
   ]
  },
  {
   "cell_type": "markdown",
   "metadata": {},
   "source": [
    "Let's verify this."
   ]
  },
  {
   "cell_type": "code",
   "execution_count": 18,
   "metadata": {},
   "outputs": [
    {
     "data": {
      "text/plain": [
       "0.8074"
      ]
     },
     "execution_count": 18,
     "metadata": {},
     "output_type": "execute_result"
    }
   ],
   "source": [
    "power(56,10000)"
   ]
  },
  {
   "cell_type": "markdown",
   "metadata": {},
   "source": [
    "## Problem 3."
   ]
  },
  {
   "cell_type": "markdown",
   "metadata": {},
   "source": [
    "In an effort to link cold environments with hypertension in humans, a preliminary experiment was conducted to investigate the effect of cold on hypertension in rats. Two random samples of 6 rats each were exposed to different environments. One sample of rats was held in a normal environment at 26 Celcius. The other sample was held in a cold 5 Celcius environment. Blood pressures and heart rates were measured for rats for both groups. The blood pressures for the 12 rats are contained in the file `RatBP.csv`.\n",
    "\n",
    "We wish to test the following hypotheses:\n",
    "$$H_0: \\mu_{26C} = \\mu_{5C}$$\n",
    "$$H_1: \\mu_{26C} \\neq \\mu_{5C}$$\n",
    "\n",
    "Please conduct an analysis of this data by addressing the following questions."
   ]
  },
  {
   "cell_type": "markdown",
   "metadata": {},
   "source": [
    "#### Q1. (3pts) Provide a visual presentation of the data (e.g.stacked histogram) and speculate (before conducting any statistical tests) whether the populations appear different or not."
   ]
  },
  {
   "cell_type": "code",
   "execution_count": 19,
   "metadata": {},
   "outputs": [
    {
     "data": {
      "text/html": [
       "<table border=\"1\" class=\"dataframe\">\n",
       "    <thead>\n",
       "        <tr>\n",
       "            <th>Rat</th> <th>Temp</th> <th>BloodPressure</th>\n",
       "        </tr>\n",
       "    </thead>\n",
       "    <tbody>\n",
       "        <tr>\n",
       "            <td>1   </td> <td>26  </td> <td>152          </td>\n",
       "        </tr>\n",
       "        <tr>\n",
       "            <td>2   </td> <td>26  </td> <td>157          </td>\n",
       "        </tr>\n",
       "        <tr>\n",
       "            <td>3   </td> <td>26  </td> <td>179          </td>\n",
       "        </tr>\n",
       "        <tr>\n",
       "            <td>4   </td> <td>26  </td> <td>182          </td>\n",
       "        </tr>\n",
       "        <tr>\n",
       "            <td>5   </td> <td>26  </td> <td>176          </td>\n",
       "        </tr>\n",
       "        <tr>\n",
       "            <td>6   </td> <td>26  </td> <td>149          </td>\n",
       "        </tr>\n",
       "        <tr>\n",
       "            <td>7   </td> <td>5   </td> <td>384          </td>\n",
       "        </tr>\n",
       "        <tr>\n",
       "            <td>8   </td> <td>5   </td> <td>369          </td>\n",
       "        </tr>\n",
       "        <tr>\n",
       "            <td>9   </td> <td>5   </td> <td>354          </td>\n",
       "        </tr>\n",
       "        <tr>\n",
       "            <td>10  </td> <td>5   </td> <td>375          </td>\n",
       "        </tr>\n",
       "        <tr>\n",
       "            <td>11  </td> <td>5   </td> <td>366          </td>\n",
       "        </tr>\n",
       "        <tr>\n",
       "            <td>12  </td> <td>5   </td> <td>423          </td>\n",
       "        </tr>\n",
       "    </tbody>\n",
       "</table>"
      ],
      "text/plain": [
       "<IPython.core.display.HTML object>"
      ]
     },
     "metadata": {},
     "output_type": "display_data"
    }
   ],
   "source": [
    "Q11 = Table.read_table('RatBP.csv')\n",
    "Q11.show()"
   ]
  },
  {
   "cell_type": "code",
   "execution_count": 20,
   "metadata": {},
   "outputs": [
    {
     "data": {
      "text/html": [
       "<table border=\"1\" class=\"dataframe\">\n",
       "    <thead>\n",
       "        <tr>\n",
       "            <th>#</th> <th>26</th> <th>5</th>\n",
       "        </tr>\n",
       "    </thead>\n",
       "    <tbody>\n",
       "        <tr>\n",
       "            <td>1   </td> <td>152 </td> <td>384 </td>\n",
       "        </tr>\n",
       "        <tr>\n",
       "            <td>2   </td> <td>157 </td> <td>369 </td>\n",
       "        </tr>\n",
       "        <tr>\n",
       "            <td>3   </td> <td>179 </td> <td>354 </td>\n",
       "        </tr>\n",
       "        <tr>\n",
       "            <td>4   </td> <td>182 </td> <td>375 </td>\n",
       "        </tr>\n",
       "        <tr>\n",
       "            <td>5   </td> <td>176 </td> <td>366 </td>\n",
       "        </tr>\n",
       "        <tr>\n",
       "            <td>6   </td> <td>149 </td> <td>423 </td>\n",
       "        </tr>\n",
       "    </tbody>\n",
       "</table>"
      ],
      "text/plain": [
       "#    | 26   | 5\n",
       "1    | 152  | 384\n",
       "2    | 157  | 369\n",
       "3    | 179  | 354\n",
       "4    | 182  | 375\n",
       "5    | 176  | 366\n",
       "6    | 149  | 423"
      ]
     },
     "execution_count": 20,
     "metadata": {},
     "output_type": "execute_result"
    }
   ],
   "source": [
    "Q12 = Table().with_columns('#',np.arange(1,7,1),'26', make_array(152, 157, 179, 182, 176,149), '5', make_array(384, 369, 354, 375, 366, 423))\n",
    "Q12"
   ]
  },
  {
   "cell_type": "code",
   "execution_count": 21,
   "metadata": {},
   "outputs": [
    {
     "data": {
      "image/png": "[encoded data removed]",
      "text/plain": [
       "<Figure size 432x288 with 1 Axes>"
      ]
     },
     "metadata": {},
     "output_type": "display_data"
    }
   ],
   "source": [
    "Q12.hist(['26','5'])"
   ]
  },
  {
   "cell_type": "markdown",
   "metadata": {},
   "source": [
    "The populations appear differently for in 26 the value is around 150-200, in 5 the value is around 350-400."
   ]
  },
  {
   "cell_type": "markdown",
   "metadata": {},
   "source": [
    "#### Q2. (4pts) Check on the assumption of equal variances."
   ]
  },
  {
   "cell_type": "markdown",
   "metadata": {},
   "source": [
    "Since our data set is pretty small, we cannot really check and thus we will simply assume that the population are normally distributed.\n",
    "\n",
    "First, we need to decide if the two samples have the same variance. To do that, we need do a F-test of equal variance."
   ]
  },
  {
   "cell_type": "code",
   "execution_count": 22,
   "metadata": {},
   "outputs": [
    {
     "name": "stdout",
     "output_type": "stream",
     "text": [
      "control: num_rows = 6 mean = 165.83 standard deviation 14.77\n",
      "treated: num_rows = 6 mean = 378.5 standard deviation 23.96\n"
     ]
    }
   ],
   "source": [
    "n1 = 6\n",
    "n2 = 6\n",
    "\n",
    "control_mean = np.mean(Q12.column(1))\n",
    "treated_mean = np.mean(Q12.column(2))\n",
    "control_std = np.std(Q12.column(1), ddof = 1)\n",
    "treated_std = np.std(Q12.column(2), ddof = 1)\n",
    "\n",
    "print('control: num_rows =', n1, \n",
    "      'mean =',round(control_mean,2), \n",
    "      'standard deviation', round(control_std,2))\n",
    "print('treated: num_rows =', n2,\n",
    "      'mean =', round(treated_mean,2),\n",
    "      'standard deviation', round(treated_std,2))"
   ]
  },
  {
   "cell_type": "markdown",
   "metadata": {},
   "source": [
    "Since our data set is pretty small, we cannot really check and thus we will simply assume that the population are normally distributed. \n",
    "\n",
    "First, we need to decide if the two samples have the same variance. To do that, we need do a F-test of equal variance."
   ]
  },
  {
   "cell_type": "code",
   "execution_count": 23,
   "metadata": {},
   "outputs": [
    {
     "data": {
      "text/plain": [
       "0.31206001693857355"
      ]
     },
     "execution_count": 23,
     "metadata": {},
     "output_type": "execute_result"
    }
   ],
   "source": [
    "F_stat = treated_std**2/control_std**2\n",
    "pval = 2*stats.f.sf(F_stat, n1-1, n2-1)\n",
    "pval"
   ]
  },
  {
   "cell_type": "markdown",
   "metadata": {},
   "source": [
    "Since p-value is more than 0.05, we cannot reject the null hypothesis and thus will conclude that the two samples have the same variances. "
   ]
  },
  {
   "cell_type": "markdown",
   "metadata": {},
   "source": [
    "#### Q3. (3pts) Assume normality holds and conduct the appropriate test. Draw some conclusions about the two populations. "
   ]
  },
  {
   "cell_type": "code",
   "execution_count": 24,
   "metadata": {},
   "outputs": [
    {
     "data": {
      "text/plain": [
       "Ttest_indResult(statistic=-18.50947841456354, pvalue=4.5696247959320855e-09)"
      ]
     },
     "execution_count": 24,
     "metadata": {},
     "output_type": "execute_result"
    }
   ],
   "source": [
    "stats.ttest_ind(Q12.column(1), Q12.column(2), equal_var=True)"
   ]
  },
  {
   "cell_type": "markdown",
   "metadata": {},
   "source": [
    "Since p-value is less than 0.05, we have enough evidence to reject the null hypothesis and conclude that blood pressures for the 12 rats are different in 5 and 26 environment. "
   ]
  },
  {
   "cell_type": "markdown",
   "metadata": {},
   "source": [
    "The sample is very small, so we need more samples and more times. Cold environments might relate to the hypertension in human but we need to find whether it is the same for human in these situations. "
   ]
  },
  {
   "cell_type": "markdown",
   "metadata": {},
   "source": [
    "## Problem 4."
   ]
  },
  {
   "cell_type": "markdown",
   "metadata": {},
   "source": [
    "A pollution-control inspector suspected that a riverside community was releasing semitreated sewage into a river and this, as a consequence, was changing the level of dissolved oxygen of the river. To check this, he drew 15 randomly selected specimens of river water at a location above the town and another 15 specimens below the town. \n",
    "\n",
    "The dissolved oxygen readings, in parts per million, are given in the file `dissolvedO2.csv`. I would like you to answer some questions similar to those posed above only this time for the population of dissolved oxygen levels.\n",
    "\n",
    "We wish to test the following hypotheses:\n",
    "$$H_0: \\mu_{above} = \\mu_{below}$$\n",
    "$$H_1: \\mu_{above} > \\mu_{below}$$"
   ]
  },
  {
   "cell_type": "markdown",
   "metadata": {},
   "source": [
    "#### Q1. (3pts) Provide a visual presentation of the data (e.g. stacked histogram) and speculate (before conducting any statistical tests) whether the populations appear different or not."
   ]
  },
  {
   "cell_type": "code",
   "execution_count": 25,
   "metadata": {},
   "outputs": [
    {
     "data": {
      "text/html": [
       "<table border=\"1\" class=\"dataframe\">\n",
       "    <thead>\n",
       "        <tr>\n",
       "            <th>Sample</th> <th>Location</th> <th>O2Level</th>\n",
       "        </tr>\n",
       "    </thead>\n",
       "    <tbody>\n",
       "        <tr>\n",
       "            <td>1     </td> <td>Above   </td> <td>5.2    </td>\n",
       "        </tr>\n",
       "        <tr>\n",
       "            <td>2     </td> <td>Above   </td> <td>4.8    </td>\n",
       "        </tr>\n",
       "        <tr>\n",
       "            <td>3     </td> <td>Above   </td> <td>5.1    </td>\n",
       "        </tr>\n",
       "        <tr>\n",
       "            <td>4     </td> <td>Above   </td> <td>5      </td>\n",
       "        </tr>\n",
       "        <tr>\n",
       "            <td>5     </td> <td>Above   </td> <td>4.9    </td>\n",
       "        </tr>\n",
       "        <tr>\n",
       "            <td>6     </td> <td>Above   </td> <td>4.8    </td>\n",
       "        </tr>\n",
       "        <tr>\n",
       "            <td>7     </td> <td>Above   </td> <td>5      </td>\n",
       "        </tr>\n",
       "        <tr>\n",
       "            <td>8     </td> <td>Above   </td> <td>4.7    </td>\n",
       "        </tr>\n",
       "        <tr>\n",
       "            <td>9     </td> <td>Above   </td> <td>4.7    </td>\n",
       "        </tr>\n",
       "        <tr>\n",
       "            <td>10    </td> <td>Above   </td> <td>5      </td>\n",
       "        </tr>\n",
       "        <tr>\n",
       "            <td>11    </td> <td>Above   </td> <td>4.7    </td>\n",
       "        </tr>\n",
       "        <tr>\n",
       "            <td>12    </td> <td>Above   </td> <td>5.1    </td>\n",
       "        </tr>\n",
       "        <tr>\n",
       "            <td>13    </td> <td>Above   </td> <td>5      </td>\n",
       "        </tr>\n",
       "        <tr>\n",
       "            <td>14    </td> <td>Above   </td> <td>4.9    </td>\n",
       "        </tr>\n",
       "        <tr>\n",
       "            <td>15    </td> <td>Above   </td> <td>4.9    </td>\n",
       "        </tr>\n",
       "        <tr>\n",
       "            <td>16    </td> <td>Below   </td> <td>4.2    </td>\n",
       "        </tr>\n",
       "        <tr>\n",
       "            <td>17    </td> <td>Below   </td> <td>4.4    </td>\n",
       "        </tr>\n",
       "        <tr>\n",
       "            <td>18    </td> <td>Below   </td> <td>4.7    </td>\n",
       "        </tr>\n",
       "        <tr>\n",
       "            <td>19    </td> <td>Below   </td> <td>4.9    </td>\n",
       "        </tr>\n",
       "        <tr>\n",
       "            <td>20    </td> <td>Below   </td> <td>4.6    </td>\n",
       "        </tr>\n",
       "        <tr>\n",
       "            <td>21    </td> <td>Below   </td> <td>4.8    </td>\n",
       "        </tr>\n",
       "        <tr>\n",
       "            <td>22    </td> <td>Below   </td> <td>4.9    </td>\n",
       "        </tr>\n",
       "        <tr>\n",
       "            <td>23    </td> <td>Below   </td> <td>4.6    </td>\n",
       "        </tr>\n",
       "        <tr>\n",
       "            <td>24    </td> <td>Below   </td> <td>5.1    </td>\n",
       "        </tr>\n",
       "        <tr>\n",
       "            <td>25    </td> <td>Below   </td> <td>4.3    </td>\n",
       "        </tr>\n",
       "        <tr>\n",
       "            <td>26    </td> <td>Below   </td> <td>5.5    </td>\n",
       "        </tr>\n",
       "        <tr>\n",
       "            <td>27    </td> <td>Below   </td> <td>4.7    </td>\n",
       "        </tr>\n",
       "        <tr>\n",
       "            <td>28    </td> <td>Below   </td> <td>4.9    </td>\n",
       "        </tr>\n",
       "        <tr>\n",
       "            <td>29    </td> <td>Below   </td> <td>4.8    </td>\n",
       "        </tr>\n",
       "        <tr>\n",
       "            <td>30    </td> <td>Below   </td> <td>4.7    </td>\n",
       "        </tr>\n",
       "    </tbody>\n",
       "</table>"
      ],
      "text/plain": [
       "<IPython.core.display.HTML object>"
      ]
     },
     "metadata": {},
     "output_type": "display_data"
    }
   ],
   "source": [
    "Q1 = Table.read_table('dissolvedO2.csv')\n",
    "Q1.show()"
   ]
  },
  {
   "cell_type": "code",
   "execution_count": 26,
   "metadata": {},
   "outputs": [
    {
     "data": {
      "text/html": [
       "<table border=\"1\" class=\"dataframe\">\n",
       "    <thead>\n",
       "        <tr>\n",
       "            <th>#</th> <th>Above</th> <th>Below</th>\n",
       "        </tr>\n",
       "    </thead>\n",
       "    <tbody>\n",
       "        <tr>\n",
       "            <td>1   </td> <td>5.2  </td> <td>4.2  </td>\n",
       "        </tr>\n",
       "        <tr>\n",
       "            <td>2   </td> <td>4.8  </td> <td>4.4  </td>\n",
       "        </tr>\n",
       "        <tr>\n",
       "            <td>3   </td> <td>5.1  </td> <td>4.7  </td>\n",
       "        </tr>\n",
       "        <tr>\n",
       "            <td>4   </td> <td>5    </td> <td>4.9  </td>\n",
       "        </tr>\n",
       "        <tr>\n",
       "            <td>5   </td> <td>4.9  </td> <td>4.6  </td>\n",
       "        </tr>\n",
       "        <tr>\n",
       "            <td>6   </td> <td>4.8  </td> <td>4.8  </td>\n",
       "        </tr>\n",
       "        <tr>\n",
       "            <td>7   </td> <td>5    </td> <td>4.9  </td>\n",
       "        </tr>\n",
       "        <tr>\n",
       "            <td>8   </td> <td>4.7  </td> <td>4.6  </td>\n",
       "        </tr>\n",
       "        <tr>\n",
       "            <td>9   </td> <td>4.7  </td> <td>5.1  </td>\n",
       "        </tr>\n",
       "        <tr>\n",
       "            <td>10  </td> <td>5    </td> <td>4.3  </td>\n",
       "        </tr>\n",
       "    </tbody>\n",
       "</table>\n",
       "<p>... (5 rows omitted)</p>"
      ],
      "text/plain": [
       "#    | Above | Below\n",
       "1    | 5.2   | 4.2\n",
       "2    | 4.8   | 4.4\n",
       "3    | 5.1   | 4.7\n",
       "4    | 5     | 4.9\n",
       "5    | 4.9   | 4.6\n",
       "6    | 4.8   | 4.8\n",
       "7    | 5     | 4.9\n",
       "8    | 4.7   | 4.6\n",
       "9    | 4.7   | 5.1\n",
       "10   | 5     | 4.3\n",
       "... (5 rows omitted)"
      ]
     },
     "execution_count": 26,
     "metadata": {},
     "output_type": "execute_result"
    }
   ],
   "source": [
    "Q1 = Table().with_columns('#',np.arange(1,16,1),'Above', Q1.where('Location', are.equal_to('Above')).column(2), 'Below', Q1.where('Location', are.equal_to('Below')).column(2))\n",
    "Q1"
   ]
  },
  {
   "cell_type": "code",
   "execution_count": 27,
   "metadata": {},
   "outputs": [
    {
     "data": {
      "image/png": "[encoded data removed]",
      "text/plain": [
       "<Figure size 432x288 with 1 Axes>"
      ]
     },
     "metadata": {},
     "output_type": "display_data"
    }
   ],
   "source": [
    "Q1.hist(['Above', 'Below'])"
   ]
  },
  {
   "cell_type": "markdown",
   "metadata": {},
   "source": [
    "Populations appear different for the range of the Below is wider than the Above. The modes are different. I guess the value of Below is smaller than the Above."
   ]
  },
  {
   "cell_type": "markdown",
   "metadata": {},
   "source": [
    "#### Q2. (4pts) Check on the assumption of equal variances."
   ]
  },
  {
   "cell_type": "code",
   "execution_count": 28,
   "metadata": {},
   "outputs": [
    {
     "name": "stdout",
     "output_type": "stream",
     "text": [
      "control: num_rows = 15 mean = 4.92 standard deviation 0.16\n",
      "treated: num_rows = 15 mean = 4.74 standard deviation 0.32\n"
     ]
    }
   ],
   "source": [
    "n1 = 15\n",
    "n2 = 15\n",
    "\n",
    "control_mean = np.mean(Q1.column(1))\n",
    "treated_mean = np.mean(Q1.column(2))\n",
    "control_std = np.std(Q1.column(1), ddof = 1)\n",
    "treated_std = np.std(Q1.column(2), ddof = 1)\n",
    "\n",
    "print('control: num_rows =', n1, \n",
    "      'mean =',round(control_mean,2), \n",
    "      'standard deviation', round(control_std,2))\n",
    "print('treated: num_rows =', n2,\n",
    "      'mean =', round(treated_mean,2),\n",
    "      'standard deviation', round(treated_std,2))"
   ]
  },
  {
   "cell_type": "code",
   "execution_count": 29,
   "metadata": {},
   "outputs": [
    {
     "data": {
      "text/plain": [
       "0.005744454780420231"
      ]
     },
     "execution_count": 29,
     "metadata": {},
     "output_type": "execute_result"
    }
   ],
   "source": [
    "F_stat = treated_std**2/control_std**2\n",
    "pval = (stats.f.sf(F_stat, n1-1, n2-1))\n",
    "pval"
   ]
  },
  {
   "cell_type": "markdown",
   "metadata": {},
   "source": [
    "Since p-value is less than 0.05, we have to reject the null hypothesis and conclude that the two samples have different variances. "
   ]
  },
  {
   "cell_type": "markdown",
   "metadata": {},
   "source": [
    "#### Q3. (3pts) Assume normality holds and conduct the appropriate test. Draw some conclusions about the two populations. *Note that $H_1$ is one-sided*."
   ]
  },
  {
   "cell_type": "code",
   "execution_count": 30,
   "metadata": {},
   "outputs": [
    {
     "data": {
      "text/plain": [
       "Ttest_indResult(statistic=1.9551142959204162, pvalue=0.06444806606116672)"
      ]
     },
     "execution_count": 30,
     "metadata": {},
     "output_type": "execute_result"
    }
   ],
   "source": [
    "stats.ttest_ind(Q1.column(1), Q1.column(2), equal_var=False)"
   ]
  },
  {
   "cell_type": "code",
   "execution_count": 31,
   "metadata": {},
   "outputs": [
    {
     "data": {
      "text/plain": [
       "0.003"
      ]
     },
     "execution_count": 31,
     "metadata": {},
     "output_type": "execute_result"
    }
   ],
   "source": [
    "P= 0.006/2\n",
    "P"
   ]
  },
  {
   "cell_type": "markdown",
   "metadata": {},
   "source": [
    "Since p-value is much smaller than 0.05, we have enough evidence to reject the null hypothesis and conclude that the two samples are different. A riverside community was releasing semitreated sewage into a river and this, as a consequence, was changing the level of dissolved oxygen of the river.\n"
   ]
  },
  {
   "cell_type": "markdown",
   "metadata": {},
   "source": [
    "But we need more samples and times to make sure."
   ]
  },
  {
   "cell_type": "code",
   "execution_count": null,
   "metadata": {},
   "outputs": [],
   "source": []
  }
 ],
 "metadata": {
  "kernelspec": {
   "display_name": "Python 3",
   "language": "python",
   "name": "python3"
  },
  "language_info": {
   "codemirror_mode": {
    "name": "ipython",
    "version": 3
   },
   "file_extension": ".py",
   "mimetype": "text/x-python",
   "name": "python",
   "nbconvert_exporter": "python",
   "pygments_lexer": "ipython3",
   "version": "3.7.3"
  }
 },
 "nbformat": 4,
 "nbformat_minor": 2
}
