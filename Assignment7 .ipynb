{
 "cells": [
  {
   "cell_type": "code",
   "execution_count": 1,
   "metadata": {},
   "outputs": [],
   "source": [
    "from datascience import *\n",
    "import numpy as np\n",
    "import math\n",
    "import scipy.stats as stats\n",
    "\n",
    "import matplotlib\n",
    "%matplotlib inline\n",
    "import matplotlib.pyplot as plt\n",
    "plt.style.use('fivethirtyeight')\n",
    "import pandas as pd"
   ]
  },
  {
   "cell_type": "markdown",
   "metadata": {},
   "source": [
    "# Problem 1. \n",
    "An analysis of fat content for a sample of hamburgers can be found in table `hamburger.csv`. We would like to test if fat contents follow a normal distribution using chi-square goodness-of-fit test. We saw how to do goodness-of-fit test for a Poisson Distribution. The following parts will guide you through how to conduct such test for Normal Distribution."
   ]
  },
  {
   "cell_type": "code",
   "execution_count": 2,
   "metadata": {},
   "outputs": [
    {
     "data": {
      "text/html": [
       "<table border=\"1\" class=\"dataframe\">\n",
       "    <thead>\n",
       "        <tr>\n",
       "            <th>lb</th> <th>ub</th> <th>numberOfObs in [lb,ub)</th>\n",
       "        </tr>\n",
       "    </thead>\n",
       "    <tbody>\n",
       "        <tr>\n",
       "            <td>26  </td> <td>28  </td> <td>7                     </td>\n",
       "        </tr>\n",
       "        <tr>\n",
       "            <td>28  </td> <td>30  </td> <td>22                    </td>\n",
       "        </tr>\n",
       "        <tr>\n",
       "            <td>30  </td> <td>32  </td> <td>36                    </td>\n",
       "        </tr>\n",
       "        <tr>\n",
       "            <td>32  </td> <td>34  </td> <td>45                    </td>\n",
       "        </tr>\n",
       "        <tr>\n",
       "            <td>34  </td> <td>36  </td> <td>33                    </td>\n",
       "        </tr>\n",
       "        <tr>\n",
       "            <td>36  </td> <td>38  </td> <td>28                    </td>\n",
       "        </tr>\n",
       "        <tr>\n",
       "            <td>38  </td> <td>40  </td> <td>4                     </td>\n",
       "        </tr>\n",
       "    </tbody>\n",
       "</table>"
      ],
      "text/plain": [
       "lb   | ub   | numberOfObs in [lb,ub)\n",
       "26   | 28   | 7\n",
       "28   | 30   | 22\n",
       "30   | 32   | 36\n",
       "32   | 34   | 45\n",
       "34   | 36   | 33\n",
       "36   | 38   | 28\n",
       "38   | 40   | 4"
      ]
     },
     "execution_count": 2,
     "metadata": {},
     "output_type": "execute_result"
    }
   ],
   "source": [
    "fat = Table.read_table('hamburger.csv')\n",
    "fat"
   ]
  },
  {
   "cell_type": "markdown",
   "metadata": {},
   "source": [
    "##### 1. What are the Null and Alternative Hypothesis?"
   ]
  },
  {
   "cell_type": "markdown",
   "metadata": {},
   "source": [
    "* $H_0$: the fat contents follow a normal distribution\n",
    "* $H_1$: the fat contents do not follow a normal distribution\n"
   ]
  },
  {
   "cell_type": "markdown",
   "metadata": {},
   "source": [
    "##### 2. What parameters need to estimated from the data?"
   ]
  },
  {
   "cell_type": "markdown",
   "metadata": {},
   "source": [
    "mean_u:${\\bar{x}}$\n",
    "\n",
    "variance: s**2"
   ]
  },
  {
   "cell_type": "markdown",
   "metadata": {},
   "source": [
    "##### 3. What are the estimates of these parameters? Use the class mid-points of 27, 29, ... 39 for your calculation."
   ]
  },
  {
   "cell_type": "code",
   "execution_count": 3,
   "metadata": {},
   "outputs": [
    {
     "data": {
      "text/plain": [
       "175"
      ]
     },
     "execution_count": 3,
     "metadata": {},
     "output_type": "execute_result"
    }
   ],
   "source": [
    "fat.column('numberOfObs in [lb,ub)').sum()\n"
   ]
  },
  {
   "cell_type": "code",
   "execution_count": 4,
   "metadata": {},
   "outputs": [
    {
     "data": {
      "text/plain": [
       "33.0"
      ]
     },
     "execution_count": 4,
     "metadata": {},
     "output_type": "execute_result"
    }
   ],
   "source": [
    "n =175\n",
    "mean_u = (27*7+ 29*22+31*36+33*45+35*33+37*28+39*4)/175\n",
    "mean_u"
   ]
  },
  {
   "cell_type": "code",
   "execution_count": 5,
   "metadata": {},
   "outputs": [
    {
     "data": {
      "text/plain": [
       "8.411428571428571"
      ]
     },
     "execution_count": 5,
     "metadata": {},
     "output_type": "execute_result"
    }
   ],
   "source": [
    "variance = ((33-27)**2*7+(33-29)**2*22+(33-31)**2*36+(35-33)**2*33+(37-33)**2*28+(39-33)**2*4)/175\n",
    "variance"
   ]
  },
  {
   "cell_type": "markdown",
   "metadata": {},
   "source": [
    "##### 4. What are the expected frequencies (expected probability) for each categories of the data? Add this as a new column to the table.\n",
    "\n",
    "This might be helpful: Let $X$ be a normal distribution with mean $\\mu$ and variance $\\sigma^2$. Then, the probability $\\mathbb{P}(a\\le X\\le b)$ can be computed using\n",
    "\n",
    "* stats.norm.cdf(b, $\\mu$, $\\sigma$) - stats.norm.cdf(a, $\\mu$, $\\sigma$) "
   ]
  },
  {
   "cell_type": "code",
   "execution_count": 6,
   "metadata": {},
   "outputs": [],
   "source": [
    "std = np.sqrt(variance)"
   ]
  },
  {
   "cell_type": "code",
   "execution_count": 7,
   "metadata": {},
   "outputs": [
    {
     "data": {
      "text/plain": [
       "2.9002462949598904"
      ]
     },
     "execution_count": 7,
     "metadata": {},
     "output_type": "execute_result"
    }
   ],
   "source": [
    "std"
   ]
  },
  {
   "cell_type": "code",
   "execution_count": 8,
   "metadata": {},
   "outputs": [],
   "source": [
    "fat = fat.with_column('expected frequency', stats.norm.cdf(fat.column('ub'),mean_u, std )- stats.norm.cdf(fat.column('lb'),mean_u, std ))"
   ]
  },
  {
   "cell_type": "code",
   "execution_count": 9,
   "metadata": {},
   "outputs": [
    {
     "data": {
      "text/html": [
       "<table border=\"1\" class=\"dataframe\">\n",
       "    <thead>\n",
       "        <tr>\n",
       "            <th>lb</th> <th>ub</th> <th>numberOfObs in [lb,ub)</th> <th>expected frequency</th>\n",
       "        </tr>\n",
       "    </thead>\n",
       "    <tbody>\n",
       "        <tr>\n",
       "            <td>26  </td> <td>28  </td> <td>7                     </td> <td>0.0344565         </td>\n",
       "        </tr>\n",
       "        <tr>\n",
       "            <td>28  </td> <td>30  </td> <td>22                    </td> <td>0.108121          </td>\n",
       "        </tr>\n",
       "        <tr>\n",
       "            <td>30  </td> <td>32  </td> <td>36                    </td> <td>0.214647          </td>\n",
       "        </tr>\n",
       "        <tr>\n",
       "            <td>32  </td> <td>34  </td> <td>45                    </td> <td>0.269754          </td>\n",
       "        </tr>\n",
       "        <tr>\n",
       "            <td>34  </td> <td>36  </td> <td>33                    </td> <td>0.214647          </td>\n",
       "        </tr>\n",
       "        <tr>\n",
       "            <td>36  </td> <td>38  </td> <td>28                    </td> <td>0.108121          </td>\n",
       "        </tr>\n",
       "        <tr>\n",
       "            <td>38  </td> <td>40  </td> <td>4                     </td> <td>0.0344565         </td>\n",
       "        </tr>\n",
       "    </tbody>\n",
       "</table>"
      ],
      "text/plain": [
       "lb   | ub   | numberOfObs in [lb,ub) | expected frequency\n",
       "26   | 28   | 7                      | 0.0344565\n",
       "28   | 30   | 22                     | 0.108121\n",
       "30   | 32   | 36                     | 0.214647\n",
       "32   | 34   | 45                     | 0.269754\n",
       "34   | 36   | 33                     | 0.214647\n",
       "36   | 38   | 28                     | 0.108121\n",
       "38   | 40   | 4                      | 0.0344565"
      ]
     },
     "execution_count": 9,
     "metadata": {},
     "output_type": "execute_result"
    }
   ],
   "source": [
    "fat"
   ]
  },
  {
   "cell_type": "markdown",
   "metadata": {},
   "source": [
    "##### 5. For complete analysis, add to the table two additional categories: \n",
    "* $(-\\infty, 26)$ \n",
    "* $[40, \\infty)$."
   ]
  },
  {
   "cell_type": "code",
   "execution_count": 10,
   "metadata": {},
   "outputs": [
    {
     "data": {
      "text/html": [
       "<table border=\"1\" class=\"dataframe\">\n",
       "    <thead>\n",
       "        <tr>\n",
       "            <th>lb</th> <th>ub</th> <th>numberOfObs in [lb,ub)</th> <th>expected frequency</th>\n",
       "        </tr>\n",
       "    </thead>\n",
       "    <tbody>\n",
       "        <tr>\n",
       "            <td>26  </td> <td>28  </td> <td>7                     </td> <td>0.0344565         </td>\n",
       "        </tr>\n",
       "        <tr>\n",
       "            <td>28  </td> <td>30  </td> <td>22                    </td> <td>0.108121          </td>\n",
       "        </tr>\n",
       "        <tr>\n",
       "            <td>30  </td> <td>32  </td> <td>36                    </td> <td>0.214647          </td>\n",
       "        </tr>\n",
       "        <tr>\n",
       "            <td>32  </td> <td>34  </td> <td>45                    </td> <td>0.269754          </td>\n",
       "        </tr>\n",
       "        <tr>\n",
       "            <td>34  </td> <td>36  </td> <td>33                    </td> <td>0.214647          </td>\n",
       "        </tr>\n",
       "        <tr>\n",
       "            <td>36  </td> <td>38  </td> <td>28                    </td> <td>0.108121          </td>\n",
       "        </tr>\n",
       "        <tr>\n",
       "            <td>38  </td> <td>40  </td> <td>4                     </td> <td>0.0344565         </td>\n",
       "        </tr>\n",
       "        <tr>\n",
       "            <td>40  </td> <td>inf </td> <td>0                     </td> <td>0.00789815        </td>\n",
       "        </tr>\n",
       "    </tbody>\n",
       "</table>"
      ],
      "text/plain": [
       "lb   | ub   | numberOfObs in [lb,ub) | expected frequency\n",
       "26   | 28   | 7                      | 0.0344565\n",
       "28   | 30   | 22                     | 0.108121\n",
       "30   | 32   | 36                     | 0.214647\n",
       "32   | 34   | 45                     | 0.269754\n",
       "34   | 36   | 33                     | 0.214647\n",
       "36   | 38   | 28                     | 0.108121\n",
       "38   | 40   | 4                      | 0.0344565\n",
       "40   | inf  | 0                      | 0.00789815"
      ]
     },
     "execution_count": 10,
     "metadata": {},
     "output_type": "execute_result"
    }
   ],
   "source": [
    "a = 1-stats.norm.cdf(40, mean_u, std)\n",
    "fat = fat.with_row(make_array(40, math.inf, 0 ,a))\n",
    "fat\n"
   ]
  },
  {
   "cell_type": "code",
   "execution_count": 11,
   "metadata": {},
   "outputs": [
    {
     "data": {
      "text/html": [
       "<table border=\"1\" class=\"dataframe\">\n",
       "    <thead>\n",
       "        <tr>\n",
       "            <th>lb</th> <th>ub</th> <th>numberOfObs in [lb,ub)</th> <th>expected frequency</th>\n",
       "        </tr>\n",
       "    </thead>\n",
       "    <tbody>\n",
       "        <tr>\n",
       "            <td>26  </td> <td>28  </td> <td>7                     </td> <td>0.0344565         </td>\n",
       "        </tr>\n",
       "        <tr>\n",
       "            <td>28  </td> <td>30  </td> <td>22                    </td> <td>0.108121          </td>\n",
       "        </tr>\n",
       "        <tr>\n",
       "            <td>30  </td> <td>32  </td> <td>36                    </td> <td>0.214647          </td>\n",
       "        </tr>\n",
       "        <tr>\n",
       "            <td>32  </td> <td>34  </td> <td>45                    </td> <td>0.269754          </td>\n",
       "        </tr>\n",
       "        <tr>\n",
       "            <td>34  </td> <td>36  </td> <td>33                    </td> <td>0.214647          </td>\n",
       "        </tr>\n",
       "        <tr>\n",
       "            <td>36  </td> <td>38  </td> <td>28                    </td> <td>0.108121          </td>\n",
       "        </tr>\n",
       "        <tr>\n",
       "            <td>38  </td> <td>40  </td> <td>4                     </td> <td>0.0344565         </td>\n",
       "        </tr>\n",
       "        <tr>\n",
       "            <td>40  </td> <td>inf </td> <td>0                     </td> <td>0.00789815        </td>\n",
       "        </tr>\n",
       "        <tr>\n",
       "            <td>-inf</td> <td>26  </td> <td>0                     </td> <td>0.00789815        </td>\n",
       "        </tr>\n",
       "    </tbody>\n",
       "</table>"
      ],
      "text/plain": [
       "lb   | ub   | numberOfObs in [lb,ub) | expected frequency\n",
       "26   | 28   | 7                      | 0.0344565\n",
       "28   | 30   | 22                     | 0.108121\n",
       "30   | 32   | 36                     | 0.214647\n",
       "32   | 34   | 45                     | 0.269754\n",
       "34   | 36   | 33                     | 0.214647\n",
       "36   | 38   | 28                     | 0.108121\n",
       "38   | 40   | 4                      | 0.0344565\n",
       "40   | inf  | 0                      | 0.00789815\n",
       "-inf | 26   | 0                      | 0.00789815"
      ]
     },
     "execution_count": 11,
     "metadata": {},
     "output_type": "execute_result"
    }
   ],
   "source": [
    "b = stats.norm.cdf(26, mean_u, std)-0\n",
    "fat = fat.with_row(make_array( -math.inf,26, 0 ,b))\n",
    "fat"
   ]
  },
  {
   "cell_type": "code",
   "execution_count": 12,
   "metadata": {},
   "outputs": [
    {
     "data": {
      "text/html": [
       "<table border=\"1\" class=\"dataframe\">\n",
       "    <thead>\n",
       "        <tr>\n",
       "            <th>lb</th> <th>ub</th> <th>numberOfObs in [lb,ub)</th> <th>expected frequency</th>\n",
       "        </tr>\n",
       "    </thead>\n",
       "    <tbody>\n",
       "        <tr>\n",
       "            <td>-inf</td> <td>26  </td> <td>0                     </td> <td>0.00789815        </td>\n",
       "        </tr>\n",
       "        <tr>\n",
       "            <td>26  </td> <td>28  </td> <td>7                     </td> <td>0.0344565         </td>\n",
       "        </tr>\n",
       "        <tr>\n",
       "            <td>28  </td> <td>30  </td> <td>22                    </td> <td>0.108121          </td>\n",
       "        </tr>\n",
       "        <tr>\n",
       "            <td>30  </td> <td>32  </td> <td>36                    </td> <td>0.214647          </td>\n",
       "        </tr>\n",
       "        <tr>\n",
       "            <td>32  </td> <td>34  </td> <td>45                    </td> <td>0.269754          </td>\n",
       "        </tr>\n",
       "        <tr>\n",
       "            <td>34  </td> <td>36  </td> <td>33                    </td> <td>0.214647          </td>\n",
       "        </tr>\n",
       "        <tr>\n",
       "            <td>36  </td> <td>38  </td> <td>28                    </td> <td>0.108121          </td>\n",
       "        </tr>\n",
       "        <tr>\n",
       "            <td>38  </td> <td>40  </td> <td>4                     </td> <td>0.0344565         </td>\n",
       "        </tr>\n",
       "        <tr>\n",
       "            <td>40  </td> <td>inf </td> <td>0                     </td> <td>0.00789815        </td>\n",
       "        </tr>\n",
       "    </tbody>\n",
       "</table>"
      ],
      "text/plain": [
       "lb   | ub   | numberOfObs in [lb,ub) | expected frequency\n",
       "-inf | 26   | 0                      | 0.00789815\n",
       "26   | 28   | 7                      | 0.0344565\n",
       "28   | 30   | 22                     | 0.108121\n",
       "30   | 32   | 36                     | 0.214647\n",
       "32   | 34   | 45                     | 0.269754\n",
       "34   | 36   | 33                     | 0.214647\n",
       "36   | 38   | 28                     | 0.108121\n",
       "38   | 40   | 4                      | 0.0344565\n",
       "40   | inf  | 0                      | 0.00789815"
      ]
     },
     "execution_count": 12,
     "metadata": {},
     "output_type": "execute_result"
    }
   ],
   "source": [
    "fat = fat.sort('ub')\n",
    "fat"
   ]
  },
  {
   "cell_type": "markdown",
   "metadata": {},
   "source": [
    "##### 6. What are the expected counts for each category of the data? Add this as a new column to the table."
   ]
  },
  {
   "cell_type": "code",
   "execution_count": 13,
   "metadata": {},
   "outputs": [
    {
     "data": {
      "text/html": [
       "<table border=\"1\" class=\"dataframe\">\n",
       "    <thead>\n",
       "        <tr>\n",
       "            <th>lb</th> <th>ub</th> <th>numberOfObs in [lb,ub)</th> <th>expected frequency</th> <th>expected</th>\n",
       "        </tr>\n",
       "    </thead>\n",
       "    <tbody>\n",
       "        <tr>\n",
       "            <td>-inf</td> <td>26  </td> <td>0                     </td> <td>0.00789815        </td> <td>1.38218 </td>\n",
       "        </tr>\n",
       "        <tr>\n",
       "            <td>26  </td> <td>28  </td> <td>7                     </td> <td>0.0344565         </td> <td>6.02989 </td>\n",
       "        </tr>\n",
       "        <tr>\n",
       "            <td>28  </td> <td>30  </td> <td>22                    </td> <td>0.108121          </td> <td>18.9212 </td>\n",
       "        </tr>\n",
       "        <tr>\n",
       "            <td>30  </td> <td>32  </td> <td>36                    </td> <td>0.214647          </td> <td>37.5633 </td>\n",
       "        </tr>\n",
       "        <tr>\n",
       "            <td>32  </td> <td>34  </td> <td>45                    </td> <td>0.269754          </td> <td>47.2069 </td>\n",
       "        </tr>\n",
       "        <tr>\n",
       "            <td>34  </td> <td>36  </td> <td>33                    </td> <td>0.214647          </td> <td>37.5633 </td>\n",
       "        </tr>\n",
       "        <tr>\n",
       "            <td>36  </td> <td>38  </td> <td>28                    </td> <td>0.108121          </td> <td>18.9212 </td>\n",
       "        </tr>\n",
       "        <tr>\n",
       "            <td>38  </td> <td>40  </td> <td>4                     </td> <td>0.0344565         </td> <td>6.02989 </td>\n",
       "        </tr>\n",
       "        <tr>\n",
       "            <td>40  </td> <td>inf </td> <td>0                     </td> <td>0.00789815        </td> <td>1.38218 </td>\n",
       "        </tr>\n",
       "    </tbody>\n",
       "</table>"
      ],
      "text/plain": [
       "lb   | ub   | numberOfObs in [lb,ub) | expected frequency | expected\n",
       "-inf | 26   | 0                      | 0.00789815         | 1.38218\n",
       "26   | 28   | 7                      | 0.0344565          | 6.02989\n",
       "28   | 30   | 22                     | 0.108121           | 18.9212\n",
       "30   | 32   | 36                     | 0.214647           | 37.5633\n",
       "32   | 34   | 45                     | 0.269754           | 47.2069\n",
       "34   | 36   | 33                     | 0.214647           | 37.5633\n",
       "36   | 38   | 28                     | 0.108121           | 18.9212\n",
       "38   | 40   | 4                      | 0.0344565          | 6.02989\n",
       "40   | inf  | 0                      | 0.00789815         | 1.38218"
      ]
     },
     "execution_count": 13,
     "metadata": {},
     "output_type": "execute_result"
    }
   ],
   "source": [
    "fat = fat.with_column('expected', fat.column('expected frequency')*175)\n",
    "fat"
   ]
  },
  {
   "cell_type": "markdown",
   "metadata": {},
   "source": [
    "##### 7. Clean the table so that it only has four columns:\n",
    "* lb,\n",
    "* ub,\n",
    "* expected number,\n",
    "* observed number. \n",
    "\n",
    "If the expected number of oberservation is less than 5 for one category, combine it with the category adjacent to it."
   ]
  },
  {
   "cell_type": "code",
   "execution_count": 14,
   "metadata": {},
   "outputs": [
    {
     "data": {
      "text/html": [
       "<table border=\"1\" class=\"dataframe\">\n",
       "    <thead>\n",
       "        <tr>\n",
       "            <th>lb</th> <th>ub</th> <th>numberOfObs in [lb,ub)</th> <th>expected</th>\n",
       "        </tr>\n",
       "    </thead>\n",
       "    <tbody>\n",
       "        <tr>\n",
       "            <td>-inf</td> <td>26  </td> <td>0                     </td> <td>1.38218 </td>\n",
       "        </tr>\n",
       "        <tr>\n",
       "            <td>26  </td> <td>28  </td> <td>7                     </td> <td>6.02989 </td>\n",
       "        </tr>\n",
       "        <tr>\n",
       "            <td>28  </td> <td>30  </td> <td>22                    </td> <td>18.9212 </td>\n",
       "        </tr>\n",
       "        <tr>\n",
       "            <td>30  </td> <td>32  </td> <td>36                    </td> <td>37.5633 </td>\n",
       "        </tr>\n",
       "        <tr>\n",
       "            <td>32  </td> <td>34  </td> <td>45                    </td> <td>47.2069 </td>\n",
       "        </tr>\n",
       "        <tr>\n",
       "            <td>34  </td> <td>36  </td> <td>33                    </td> <td>37.5633 </td>\n",
       "        </tr>\n",
       "        <tr>\n",
       "            <td>36  </td> <td>38  </td> <td>28                    </td> <td>18.9212 </td>\n",
       "        </tr>\n",
       "        <tr>\n",
       "            <td>38  </td> <td>40  </td> <td>4                     </td> <td>6.02989 </td>\n",
       "        </tr>\n",
       "        <tr>\n",
       "            <td>40  </td> <td>inf </td> <td>0                     </td> <td>1.38218 </td>\n",
       "        </tr>\n",
       "    </tbody>\n",
       "</table>"
      ],
      "text/plain": [
       "lb   | ub   | numberOfObs in [lb,ub) | expected\n",
       "-inf | 26   | 0                      | 1.38218\n",
       "26   | 28   | 7                      | 6.02989\n",
       "28   | 30   | 22                     | 18.9212\n",
       "30   | 32   | 36                     | 37.5633\n",
       "32   | 34   | 45                     | 47.2069\n",
       "34   | 36   | 33                     | 37.5633\n",
       "36   | 38   | 28                     | 18.9212\n",
       "38   | 40   | 4                      | 6.02989\n",
       "40   | inf  | 0                      | 1.38218"
      ]
     },
     "execution_count": 14,
     "metadata": {},
     "output_type": "execute_result"
    }
   ],
   "source": [
    "fat = fat.select('lb','ub','numberOfObs in [lb,ub)', 'expected')\n",
    "fat"
   ]
  },
  {
   "cell_type": "code",
   "execution_count": 15,
   "metadata": {},
   "outputs": [
    {
     "data": {
      "text/html": [
       "<table border=\"1\" class=\"dataframe\">\n",
       "    <thead>\n",
       "        <tr>\n",
       "            <th>lb</th> <th>ub</th> <th>numberOfObs in [lb,ub)</th> <th>expected</th>\n",
       "        </tr>\n",
       "    </thead>\n",
       "    <tbody>\n",
       "        <tr>\n",
       "            <td>-inf</td> <td>28  </td> <td>7                     </td> <td>7.41207 </td>\n",
       "        </tr>\n",
       "        <tr>\n",
       "            <td>28  </td> <td>30  </td> <td>22                    </td> <td>18.9212 </td>\n",
       "        </tr>\n",
       "        <tr>\n",
       "            <td>30  </td> <td>32  </td> <td>36                    </td> <td>37.5633 </td>\n",
       "        </tr>\n",
       "        <tr>\n",
       "            <td>32  </td> <td>34  </td> <td>45                    </td> <td>47.2069 </td>\n",
       "        </tr>\n",
       "        <tr>\n",
       "            <td>34  </td> <td>36  </td> <td>33                    </td> <td>37.5633 </td>\n",
       "        </tr>\n",
       "        <tr>\n",
       "            <td>36  </td> <td>38  </td> <td>28                    </td> <td>18.9212 </td>\n",
       "        </tr>\n",
       "        <tr>\n",
       "            <td>38  </td> <td>inf </td> <td>4                     </td> <td>7.41207 </td>\n",
       "        </tr>\n",
       "    </tbody>\n",
       "</table>"
      ],
      "text/plain": [
       "lb   | ub   | numberOfObs in [lb,ub) | expected\n",
       "-inf | 28   | 7                      | 7.41207\n",
       "28   | 30   | 22                     | 18.9212\n",
       "30   | 32   | 36                     | 37.5633\n",
       "32   | 34   | 45                     | 47.2069\n",
       "34   | 36   | 33                     | 37.5633\n",
       "36   | 38   | 28                     | 18.9212\n",
       "38   | inf  | 4                      | 7.41207"
      ]
     },
     "execution_count": 15,
     "metadata": {},
     "output_type": "execute_result"
    }
   ],
   "source": [
    "fat = fat.with_row(make_array(38,math.inf,4,fat.row(7)[3]+fat.row(8)[3]))\n",
    "fat = fat.with_row(make_array(-math.inf,28,7,fat.row(0)[3]+fat.row(1)[3]))\n",
    "fat =fat.take([2,3,4,5,6,9,10]).sort('ub')\n",
    "fat"
   ]
  },
  {
   "cell_type": "markdown",
   "metadata": {},
   "source": [
    "##### 8. Compute the test statistic."
   ]
  },
  {
   "cell_type": "code",
   "execution_count": 16,
   "metadata": {},
   "outputs": [
    {
     "data": {
      "text/plain": [
       "7.17339614191457"
      ]
     },
     "execution_count": 16,
     "metadata": {},
     "output_type": "execute_result"
    }
   ],
   "source": [
    "expected = fat.column('expected')\n",
    "observed = fat.column('numberOfObs in [lb,ub)')\n",
    "Q = sum((expected-observed)**2/expected)\n",
    "Q"
   ]
  },
  {
   "cell_type": "markdown",
   "metadata": {},
   "source": [
    "##### 9. What is the degree of freedom?"
   ]
  },
  {
   "cell_type": "code",
   "execution_count": 17,
   "metadata": {},
   "outputs": [
    {
     "data": {
      "text/plain": [
       "4"
      ]
     },
     "execution_count": 17,
     "metadata": {},
     "output_type": "execute_result"
    }
   ],
   "source": [
    "df = fat.num_rows-1-2\n",
    "df"
   ]
  },
  {
   "cell_type": "markdown",
   "metadata": {},
   "source": [
    "##### 10. What is the p-value and what is your conclusion?"
   ]
  },
  {
   "cell_type": "code",
   "execution_count": 18,
   "metadata": {},
   "outputs": [
    {
     "data": {
      "text/plain": [
       "0.1270038751143096"
      ]
     },
     "execution_count": 18,
     "metadata": {},
     "output_type": "execute_result"
    }
   ],
   "source": [
    "pval = stats.chi2.sf(Q,df)\n",
    "pval"
   ]
  },
  {
   "cell_type": "markdown",
   "metadata": {},
   "source": [
    "Since p-value is bigger than 0.05, we have enough evidence to accept the null hypothesis. The fat contents follow a normal distribution. "
   ]
  },
  {
   "cell_type": "markdown",
   "metadata": {},
   "source": [
    "# Problem 2. \n",
    "\n",
    "A sample of adults in Eastern and Central Newfoundland was conducted early in 1988 to examine public attitudes toward government cuts in social spending. Some of the results from this study are described in Morris Saldov, “Public Attitudes to Social Spending in Newfoundland,” Canadian Review of Social Policy, 26, November 1990, pages 10-14. The data is represented in the table below:\n",
    "\n",
    "<img width=400px src='welfare.png'>\n",
    "\n",
    "Concerning this data, the\n",
    "author comments,\n",
    "\n",
    "* \"Respondents who knew someone on social assistance, were more likely to feel that welfare rates were too low, ... \""
   ]
  },
  {
   "cell_type": "markdown",
   "metadata": {},
   "source": [
    "##### 1. Can we conduct a test of independence here, or is it that we can only carry out a test of homogeneity?"
   ]
  },
  {
   "cell_type": "markdown",
   "metadata": {},
   "source": [
    "we conduct a test of independence here."
   ]
  },
  {
   "cell_type": "markdown",
   "metadata": {},
   "source": [
    "##### 2. Depending on your answer for 1., what are the null and alternative hypotheses?"
   ]
  },
  {
   "cell_type": "markdown",
   "metadata": {},
   "source": [
    "The null hypothesis and alternative hypothesis are:\n",
    "* $H_0$: respondents who knew someone on social assistance and not are equally likely to feel that welfare rates were too low\n",
    "* $H_1$: respomdents who knew someone on social assistance are more likely to feel that welfare rates were too low\n"
   ]
  },
  {
   "cell_type": "markdown",
   "metadata": {},
   "source": [
    "##### 3. Compute the test statistic."
   ]
  },
  {
   "cell_type": "code",
   "execution_count": 19,
   "metadata": {},
   "outputs": [
    {
     "data": {
      "text/plain": [
       "array([[40,  6],\n",
       "       [16, 13],\n",
       "       [ 9,  7]])"
      ]
     },
     "execution_count": 19,
     "metadata": {},
     "output_type": "execute_result"
    }
   ],
   "source": [
    "observed = np.array([[40, 6], [16, 13], [9,7]])\n",
    "observed\n"
   ]
  },
  {
   "cell_type": "code",
   "execution_count": 20,
   "metadata": {},
   "outputs": [
    {
     "data": {
      "text/plain": [
       "array([[40,  6, 46],\n",
       "       [16, 13, 29],\n",
       "       [ 9,  7, 16],\n",
       "       [65, 26, 91]])"
      ]
     },
     "execution_count": 20,
     "metadata": {},
     "output_type": "execute_result"
    }
   ],
   "source": [
    "observed_margin = np.array([[40,6,46],[16,13,29],[9,7,16],[65,26,91]])\n",
    "observed_margin"
   ]
  },
  {
   "cell_type": "code",
   "execution_count": 21,
   "metadata": {},
   "outputs": [
    {
     "data": {
      "text/plain": [
       "array([[32.85714286, 13.14285714],\n",
       "       [20.71428571,  8.28571429],\n",
       "       [11.42857143,  4.57142857]])"
      ]
     },
     "execution_count": 21,
     "metadata": {},
     "output_type": "execute_result"
    }
   ],
   "source": [
    "nrows = 3\n",
    "ncols = 2\n",
    "expected = np.zeros((nrows,ncols))   #initialization\n",
    "for i in np.arange(nrows):\n",
    "    for j in np.arange(ncols):\n",
    "        expected[i,j] = observed_margin[i,ncols]*observed_margin[nrows,j]/observed_margin[nrows,ncols]\n",
    "expected"
   ]
  },
  {
   "cell_type": "code",
   "execution_count": 22,
   "metadata": {},
   "outputs": [
    {
     "data": {
      "text/plain": [
       "10.996205022488756"
      ]
     },
     "execution_count": 22,
     "metadata": {},
     "output_type": "execute_result"
    }
   ],
   "source": [
    "Q = ((expected-observed)**2/expected).sum()\n",
    "Q"
   ]
  },
  {
   "cell_type": "markdown",
   "metadata": {},
   "source": [
    "##### 4. What is the degree of freedom?"
   ]
  },
  {
   "cell_type": "code",
   "execution_count": 23,
   "metadata": {},
   "outputs": [
    {
     "data": {
      "text/plain": [
       "2"
      ]
     },
     "execution_count": 23,
     "metadata": {},
     "output_type": "execute_result"
    }
   ],
   "source": [
    "df = (nrows-1)*(ncols-1)\n",
    "df"
   ]
  },
  {
   "cell_type": "markdown",
   "metadata": {},
   "source": [
    "##### 5. What is the p-value and what is your conclusion?"
   ]
  },
  {
   "cell_type": "code",
   "execution_count": 24,
   "metadata": {},
   "outputs": [],
   "source": [
    "pval = stats.chi2.sf(Q,df)"
   ]
  },
  {
   "cell_type": "code",
   "execution_count": 25,
   "metadata": {},
   "outputs": [
    {
     "data": {
      "text/plain": [
       "0.004094533403106778"
      ]
     },
     "execution_count": 25,
     "metadata": {},
     "output_type": "execute_result"
    }
   ],
   "source": [
    "pval"
   ]
  },
  {
   "cell_type": "markdown",
   "metadata": {},
   "source": [
    "Since p-vale < 0.05, we reject the null hypothesis. Respomdents who knew someone on social assistance are more likely to feel that welfare rates were too low.\n"
   ]
  },
  {
   "cell_type": "code",
   "execution_count": null,
   "metadata": {},
   "outputs": [],
   "source": []
  }
 ],
 "metadata": {
  "kernelspec": {
   "display_name": "Python 3",
   "language": "python",
   "name": "python3"
  },
  "language_info": {
   "codemirror_mode": {
    "name": "ipython",
    "version": 3
   },
   "file_extension": ".py",
   "mimetype": "text/x-python",
   "name": "python",
   "nbconvert_exporter": "python",
   "pygments_lexer": "ipython3",
   "version": "3.7.3"
  }
 },
 "nbformat": 4,
 "nbformat_minor": 2
}
