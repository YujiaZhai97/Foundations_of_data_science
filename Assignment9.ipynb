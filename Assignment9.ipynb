{
 "cells": [
  {
   "cell_type": "code",
   "execution_count": 1,
   "metadata": {},
   "outputs": [],
   "source": [
    "from datascience import *\n",
    "%matplotlib inline\n",
    "import matplotlib.pyplot as plots\n",
    "plots.style.use('fivethirtyeight')\n",
    "import math\n",
    "import numpy as np\n",
    "from scipy import stats\n",
    "import pandas as pd\n",
    "import statsmodels.formula.api as smf\n",
    "from statsmodels.stats.anova import anova_lm"
   ]
  },
  {
   "cell_type": "markdown",
   "metadata": {},
   "source": [
    "## Problem 1.\n",
    "\n",
    "The following functions compute and return the covariance and the correlation coefficient."
   ]
  },
  {
   "cell_type": "code",
   "execution_count": 2,
   "metadata": {},
   "outputs": [],
   "source": [
    "def sample_covariance(x, y):\n",
    "    return np.cov(x,y,ddof=1)[0,1]"
   ]
  },
  {
   "cell_type": "code",
   "execution_count": 3,
   "metadata": {},
   "outputs": [],
   "source": [
    "def correlation_coeff(x, y):\n",
    "    return stats.pearsonr(x,y)[0]"
   ]
  },
  {
   "cell_type": "markdown",
   "metadata": {},
   "source": [
    "Use these functions to answer the following questions:"
   ]
  },
  {
   "cell_type": "code",
   "execution_count": 4,
   "metadata": {},
   "outputs": [],
   "source": [
    "x = np.array([97,86,89,84,94,74])\n",
    "y = np.array([14,11,9,9,15,7])"
   ]
  },
  {
   "cell_type": "markdown",
   "metadata": {},
   "source": [
    "#### 1. \n",
    "What happens to $r$ if you double each of the values in your data.  How does this compare to what happens to the covariance?"
   ]
  },
  {
   "cell_type": "code",
   "execution_count": 5,
   "metadata": {},
   "outputs": [
    {
     "data": {
      "text/plain": [
       "22.46666666666667"
      ]
     },
     "execution_count": 5,
     "metadata": {},
     "output_type": "execute_result"
    }
   ],
   "source": [
    "covariance1 = sample_covariance(x,y)\n",
    "covariance1"
   ]
  },
  {
   "cell_type": "code",
   "execution_count": 6,
   "metadata": {},
   "outputs": [
    {
     "data": {
      "text/plain": [
       "0.8831162909634476"
      ]
     },
     "execution_count": 6,
     "metadata": {},
     "output_type": "execute_result"
    }
   ],
   "source": [
    "correlation_coeff1 = correlation_coeff(x,y)\n",
    "correlation_coeff1"
   ]
  },
  {
   "cell_type": "code",
   "execution_count": 7,
   "metadata": {},
   "outputs": [],
   "source": [
    "x = 2*x\n",
    "y = 2*y"
   ]
  },
  {
   "cell_type": "code",
   "execution_count": 8,
   "metadata": {},
   "outputs": [
    {
     "data": {
      "text/plain": [
       "89.86666666666667"
      ]
     },
     "execution_count": 8,
     "metadata": {},
     "output_type": "execute_result"
    }
   ],
   "source": [
    "covariance1 = sample_covariance(x,y)\n",
    "covariance1"
   ]
  },
  {
   "cell_type": "code",
   "execution_count": 9,
   "metadata": {},
   "outputs": [
    {
     "data": {
      "text/plain": [
       "0.8831162909634476"
      ]
     },
     "execution_count": 9,
     "metadata": {},
     "output_type": "execute_result"
    }
   ],
   "source": [
    "correlation_coeff1 = correlation_coeff(x,y)\n",
    "correlation_coeff1"
   ]
  },
  {
   "cell_type": "markdown",
   "metadata": {},
   "source": [
    "The r will stays the same as we double the values of the data, the covariance will times 4."
   ]
  },
  {
   "cell_type": "markdown",
   "metadata": {},
   "source": [
    "#### 2. \n",
    "What happens to $r$ if you add 100 to each value in your data set.  How does this compare to what happens to the covariance?"
   ]
  },
  {
   "cell_type": "code",
   "execution_count": 10,
   "metadata": {},
   "outputs": [],
   "source": [
    "x = np.array([97,86,89,84,94,74])\n",
    "y = np.array([14,11,9,9,15,7])"
   ]
  },
  {
   "cell_type": "code",
   "execution_count": 11,
   "metadata": {},
   "outputs": [
    {
     "data": {
      "text/plain": [
       "array([197, 186, 189, 184, 194, 174])"
      ]
     },
     "execution_count": 11,
     "metadata": {},
     "output_type": "execute_result"
    }
   ],
   "source": [
    "x= x+100\n",
    "x"
   ]
  },
  {
   "cell_type": "code",
   "execution_count": 12,
   "metadata": {},
   "outputs": [],
   "source": [
    "y = y+100"
   ]
  },
  {
   "cell_type": "code",
   "execution_count": 13,
   "metadata": {},
   "outputs": [
    {
     "data": {
      "text/plain": [
       "22.46666666666667"
      ]
     },
     "execution_count": 13,
     "metadata": {},
     "output_type": "execute_result"
    }
   ],
   "source": [
    "covariance1 = sample_covariance(x,y)\n",
    "covariance1"
   ]
  },
  {
   "cell_type": "code",
   "execution_count": 14,
   "metadata": {},
   "outputs": [
    {
     "data": {
      "text/plain": [
       "0.8831162909634477"
      ]
     },
     "execution_count": 14,
     "metadata": {},
     "output_type": "execute_result"
    }
   ],
   "source": [
    "correlation_coeff1 = correlation_coeff(x,y)\n",
    "correlation_coeff1"
   ]
  },
  {
   "cell_type": "markdown",
   "metadata": {},
   "source": [
    "The r and covariance will stay the same."
   ]
  },
  {
   "cell_type": "markdown",
   "metadata": {},
   "source": [
    "## Problem 2.\n",
    "\n",
    "Does skill in one sport imply skill in a related sport?  The answer might be different for different activities.  Let us find out whether it's true for the [triple jump](https://en.wikipedia.org/wiki/Triple_jump) and the vertical jump. \n",
    "\n",
    "`triple_vertical` has data for 40 collegiate level soccer players.  Each athlete's distance in both jump activities was measured in centimeters. We are looking specifically for a *linear* association between skill in the two sports. "
   ]
  },
  {
   "cell_type": "code",
   "execution_count": 15,
   "metadata": {},
   "outputs": [
    {
     "data": {
      "text/html": [
       "<table border=\"1\" class=\"dataframe\">\n",
       "    <thead>\n",
       "        <tr>\n",
       "            <th>triple</th> <th>vertical</th>\n",
       "        </tr>\n",
       "    </thead>\n",
       "    <tbody>\n",
       "        <tr>\n",
       "            <td>383   </td> <td>33      </td>\n",
       "        </tr>\n",
       "        <tr>\n",
       "            <td>781   </td> <td>71.1    </td>\n",
       "        </tr>\n",
       "        <tr>\n",
       "            <td>561.62</td> <td>62.25   </td>\n",
       "        </tr>\n",
       "        <tr>\n",
       "            <td>624.52</td> <td>61.33   </td>\n",
       "        </tr>\n",
       "        <tr>\n",
       "            <td>446.24</td> <td>40.19   </td>\n",
       "        </tr>\n",
       "        <tr>\n",
       "            <td>515.3 </td> <td>38.96   </td>\n",
       "        </tr>\n",
       "        <tr>\n",
       "            <td>449.22</td> <td>39.69   </td>\n",
       "        </tr>\n",
       "        <tr>\n",
       "            <td>560.91</td> <td>46.51   </td>\n",
       "        </tr>\n",
       "        <tr>\n",
       "            <td>519.12</td> <td>37.68   </td>\n",
       "        </tr>\n",
       "        <tr>\n",
       "            <td>595.38</td> <td>53.48   </td>\n",
       "        </tr>\n",
       "    </tbody>\n",
       "</table>\n",
       "<p>... (30 rows omitted)</p>"
      ],
      "text/plain": [
       "triple | vertical\n",
       "383    | 33\n",
       "781    | 71.1\n",
       "561.62 | 62.25\n",
       "624.52 | 61.33\n",
       "446.24 | 40.19\n",
       "515.3  | 38.96\n",
       "449.22 | 39.69\n",
       "560.91 | 46.51\n",
       "519.12 | 37.68\n",
       "595.38 | 53.48\n",
       "... (30 rows omitted)"
      ]
     },
     "execution_count": 15,
     "metadata": {},
     "output_type": "execute_result"
    }
   ],
   "source": [
    "jumps = Table.read_table('triple_vertical.csv')\n",
    "jumps"
   ]
  },
  {
   "cell_type": "markdown",
   "metadata": {},
   "source": [
    "#### 1. \n",
    "Draw the scatter plot of both distances with triple jump on the horizontal axis. Comment on the strength of the relationship."
   ]
  },
  {
   "cell_type": "code",
   "execution_count": 16,
   "metadata": {},
   "outputs": [
    {
     "data": {
      "image/png": "[encoded data removed]",
      "text/plain": [
       "<Figure size 360x360 with 1 Axes>"
      ]
     },
     "metadata": {},
     "output_type": "display_data"
    }
   ],
   "source": [
    "jumps.scatter('triple','vertical')"
   ]
  },
  {
   "cell_type": "markdown",
   "metadata": {},
   "source": [
    "Generally, the scatter plot shows us a *positive* linear association: the longer the distance of triple jump, the longer the distance of vertical jump."
   ]
  },
  {
   "cell_type": "markdown",
   "metadata": {},
   "source": [
    "#### 2.\n",
    "Calculate the correlation coefficient **without** using any built-in function (e.g. numpy.cov, stats.pearsonr)."
   ]
  },
  {
   "cell_type": "code",
   "execution_count": 17,
   "metadata": {},
   "outputs": [
    {
     "name": "stdout",
     "output_type": "stream",
     "text": [
      "r= 0.834308\n"
     ]
    }
   ],
   "source": [
    "triple_mean = np.mean(jumps.column('triple'))\n",
    "vertical_mean = np.mean(jumps.column('vertical'))\n",
    "\n",
    "triple_std = np.std(jumps.column('triple'), ddof=1)\n",
    "vertical_std = np.std(jumps.column('vertical'), ddof=1)\n",
    "\n",
    "n = jumps.num_rows\n",
    "\n",
    "covariance = np.sum((jumps.column('triple')-triple_mean)*\n",
    "                    (jumps.column('vertical')-vertical_mean))/(n-1)\n",
    "normalizer = triple_std*vertical_std\n",
    "\n",
    "r = covariance/normalizer\n",
    "\n",
    "print('r=',round(r,6))"
   ]
  },
  {
   "cell_type": "markdown",
   "metadata": {},
   "source": [
    "#### 3. \n",
    "Fit a linear regression model using triple jump distance to predict vertical jump distance. Print the summary table and plot the fitted line."
   ]
  },
  {
   "cell_type": "code",
   "execution_count": 18,
   "metadata": {},
   "outputs": [
    {
     "data": {
      "image/png": "[encoded data removed]",
      "text/plain": [
       "<Figure size 360x360 with 1 Axes>"
      ]
     },
     "metadata": {},
     "output_type": "display_data"
    }
   ],
   "source": [
    "jumps.scatter('triple','vertical', fit_line=True, s= 10)"
   ]
  },
  {
   "cell_type": "code",
   "execution_count": 19,
   "metadata": {},
   "outputs": [
    {
     "name": "stdout",
     "output_type": "stream",
     "text": [
      "Intercept   -1.566521\n",
      "triple       0.092957\n",
      "dtype: float64\n"
     ]
    },
    {
     "data": {
      "text/html": [
       "<table class=\"simpletable\">\n",
       "<caption>OLS Regression Results</caption>\n",
       "<tr>\n",
       "  <th>Dep. Variable:</th>        <td>vertical</td>     <th>  R-squared:         </th> <td>   0.696</td>\n",
       "</tr>\n",
       "<tr>\n",
       "  <th>Model:</th>                   <td>OLS</td>       <th>  Adj. R-squared:    </th> <td>   0.688</td>\n",
       "</tr>\n",
       "<tr>\n",
       "  <th>Method:</th>             <td>Least Squares</td>  <th>  F-statistic:       </th> <td>   87.03</td>\n",
       "</tr>\n",
       "<tr>\n",
       "  <th>Date:</th>             <td>Wed, 20 Nov 2019</td> <th>  Prob (F-statistic):</th> <td>2.27e-11</td>\n",
       "</tr>\n",
       "<tr>\n",
       "  <th>Time:</th>                 <td>13:11:00</td>     <th>  Log-Likelihood:    </th> <td> -127.64</td>\n",
       "</tr>\n",
       "<tr>\n",
       "  <th>No. Observations:</th>      <td>    40</td>      <th>  AIC:               </th> <td>   259.3</td>\n",
       "</tr>\n",
       "<tr>\n",
       "  <th>Df Residuals:</th>          <td>    38</td>      <th>  BIC:               </th> <td>   262.7</td>\n",
       "</tr>\n",
       "<tr>\n",
       "  <th>Df Model:</th>              <td>     1</td>      <th>                     </th>     <td> </td>   \n",
       "</tr>\n",
       "<tr>\n",
       "  <th>Covariance Type:</th>      <td>nonrobust</td>    <th>                     </th>     <td> </td>   \n",
       "</tr>\n",
       "</table>\n",
       "<table class=\"simpletable\">\n",
       "<tr>\n",
       "      <td></td>         <th>coef</th>     <th>std err</th>      <th>t</th>      <th>P>|t|</th>  <th>[0.025</th>    <th>0.975]</th>  \n",
       "</tr>\n",
       "<tr>\n",
       "  <th>Intercept</th> <td>   -1.5665</td> <td>    5.535</td> <td>   -0.283</td> <td> 0.779</td> <td>  -12.772</td> <td>    9.639</td>\n",
       "</tr>\n",
       "<tr>\n",
       "  <th>triple</th>    <td>    0.0930</td> <td>    0.010</td> <td>    9.329</td> <td> 0.000</td> <td>    0.073</td> <td>    0.113</td>\n",
       "</tr>\n",
       "</table>\n",
       "<table class=\"simpletable\">\n",
       "<tr>\n",
       "  <th>Omnibus:</th>       <td> 0.425</td> <th>  Durbin-Watson:     </th> <td>   1.869</td>\n",
       "</tr>\n",
       "<tr>\n",
       "  <th>Prob(Omnibus):</th> <td> 0.809</td> <th>  Jarque-Bera (JB):  </th> <td>   0.047</td>\n",
       "</tr>\n",
       "<tr>\n",
       "  <th>Skew:</th>          <td> 0.061</td> <th>  Prob(JB):          </th> <td>   0.977</td>\n",
       "</tr>\n",
       "<tr>\n",
       "  <th>Kurtosis:</th>      <td> 3.115</td> <th>  Cond. No.          </th> <td>3.22e+03</td>\n",
       "</tr>\n",
       "</table><br/><br/>Warnings:<br/>[1] Standard Errors assume that the covariance matrix of the errors is correctly specified.<br/>[2] The condition number is large, 3.22e+03. This might indicate that there are<br/>strong multicollinearity or other numerical problems."
      ],
      "text/plain": [
       "<class 'statsmodels.iolib.summary.Summary'>\n",
       "\"\"\"\n",
       "                            OLS Regression Results                            \n",
       "==============================================================================\n",
       "Dep. Variable:               vertical   R-squared:                       0.696\n",
       "Model:                            OLS   Adj. R-squared:                  0.688\n",
       "Method:                 Least Squares   F-statistic:                     87.03\n",
       "Date:                Wed, 20 Nov 2019   Prob (F-statistic):           2.27e-11\n",
       "Time:                        13:11:00   Log-Likelihood:                -127.64\n",
       "No. Observations:                  40   AIC:                             259.3\n",
       "Df Residuals:                      38   BIC:                             262.7\n",
       "Df Model:                           1                                         \n",
       "Covariance Type:            nonrobust                                         \n",
       "==============================================================================\n",
       "                 coef    std err          t      P>|t|      [0.025      0.975]\n",
       "------------------------------------------------------------------------------\n",
       "Intercept     -1.5665      5.535     -0.283      0.779     -12.772       9.639\n",
       "triple         0.0930      0.010      9.329      0.000       0.073       0.113\n",
       "==============================================================================\n",
       "Omnibus:                        0.425   Durbin-Watson:                   1.869\n",
       "Prob(Omnibus):                  0.809   Jarque-Bera (JB):                0.047\n",
       "Skew:                           0.061   Prob(JB):                        0.977\n",
       "Kurtosis:                       3.115   Cond. No.                     3.22e+03\n",
       "==============================================================================\n",
       "\n",
       "Warnings:\n",
       "[1] Standard Errors assume that the covariance matrix of the errors is correctly specified.\n",
       "[2] The condition number is large, 3.22e+03. This might indicate that there are\n",
       "strong multicollinearity or other numerical problems.\n",
       "\"\"\""
      ]
     },
     "execution_count": 19,
     "metadata": {},
     "output_type": "execute_result"
    }
   ],
   "source": [
    "import pandas as pd\n",
    "import statsmodels.formula.api as smf\n",
    "\n",
    "jumps_df = jumps.to_df()\n",
    "result = smf.ols(formula=\"vertical~ triple\", data=jumps_df).fit()\n",
    "\n",
    "print(result.params)\n",
    "result.summary()"
   ]
  },
  {
   "cell_type": "code",
   "execution_count": 20,
   "metadata": {},
   "outputs": [
    {
     "data": {
      "image/png": "[encoded data removed]",
      "text/plain": [
       "<Figure size 360x360 with 1 Axes>"
      ]
     },
     "metadata": {},
     "output_type": "display_data"
    }
   ],
   "source": [
    "intercept, slope = result.params\n",
    "jumps.scatter('triple','vertical', fit_line=True, s= 10)\n",
    "xs = np.linspace(400,800,100)\n",
    "_ = plots.plot(xs, slope*xs+intercept, color='r', lw=3, linestyle=\":\")"
   ]
  },
  {
   "cell_type": "markdown",
   "metadata": {},
   "source": [
    "#### 4. \n",
    "Use the fitted model to predict what certain athletes' vertical jump heights would be given their triple jump distances. The world record for the triple jump distance is 18.29 *meters* by Johnathan Edwards. What's our prediction for what Edwards' vertical jump would be?"
   ]
  },
  {
   "cell_type": "code",
   "execution_count": 21,
   "metadata": {},
   "outputs": [
    {
     "data": {
      "text/plain": [
       "168.451832"
      ]
     },
     "execution_count": 21,
     "metadata": {},
     "output_type": "execute_result"
    }
   ],
   "source": [
    "x = 1829\n",
    "y = 0.092957*x -1.566521\n",
    "y"
   ]
  },
  {
   "cell_type": "markdown",
   "metadata": {},
   "source": [
    "The vertical jump would be 168cm."
   ]
  },
  {
   "cell_type": "markdown",
   "metadata": {},
   "source": [
    "#### 5. \n",
    "What are the SSE, SST, and SSR of our model? \n",
    "\n",
    "Calculate the coefficient of determination ($R^2$) and the adjusted $R^2$ using these values and check it with the value given in the summary table."
   ]
  },
  {
   "cell_type": "code",
   "execution_count": 22,
   "metadata": {},
   "outputs": [
    {
     "data": {
      "text/html": [
       "<table border=\"1\" class=\"dataframe\">\n",
       "    <thead>\n",
       "        <tr>\n",
       "            <th>triple</th> <th>vertical</th> <th>Fitted Value</th> <th>Residual</th>\n",
       "        </tr>\n",
       "    </thead>\n",
       "    <tbody>\n",
       "        <tr>\n",
       "            <td>383   </td> <td>33      </td> <td>34.0361     </td> <td>-1.03612 </td>\n",
       "        </tr>\n",
       "        <tr>\n",
       "            <td>781   </td> <td>71.1    </td> <td>71.0331     </td> <td>0.066884 </td>\n",
       "        </tr>\n",
       "        <tr>\n",
       "            <td>561.62</td> <td>62.25   </td> <td>50.6401     </td> <td>11.6099  </td>\n",
       "        </tr>\n",
       "        <tr>\n",
       "            <td>624.52</td> <td>61.33   </td> <td>56.4872     </td> <td>4.84284  </td>\n",
       "        </tr>\n",
       "        <tr>\n",
       "            <td>446.24</td> <td>40.19   </td> <td>39.9147     </td> <td>0.275264 </td>\n",
       "        </tr>\n",
       "        <tr>\n",
       "            <td>515.3 </td> <td>38.96   </td> <td>46.3344     </td> <td>-7.37437 </td>\n",
       "        </tr>\n",
       "        <tr>\n",
       "            <td>449.22</td> <td>39.69   </td> <td>40.1917     </td> <td>-0.501749</td>\n",
       "        </tr>\n",
       "        <tr>\n",
       "            <td>560.91</td> <td>46.51   </td> <td>50.5741     </td> <td>-4.06415 </td>\n",
       "        </tr>\n",
       "        <tr>\n",
       "            <td>519.12</td> <td>37.68   </td> <td>46.6895     </td> <td>-9.00946 </td>\n",
       "        </tr>\n",
       "        <tr>\n",
       "            <td>595.38</td> <td>53.48   </td> <td>53.7784     </td> <td>-0.298385</td>\n",
       "        </tr>\n",
       "    </tbody>\n",
       "</table>\n",
       "<p>... (30 rows omitted)</p>"
      ],
      "text/plain": [
       "triple | vertical | Fitted Value | Residual\n",
       "383    | 33       | 34.0361      | -1.03612\n",
       "781    | 71.1     | 71.0331      | 0.066884\n",
       "561.62 | 62.25    | 50.6401      | 11.6099\n",
       "624.52 | 61.33    | 56.4872      | 4.84284\n",
       "446.24 | 40.19    | 39.9147      | 0.275264\n",
       "515.3  | 38.96    | 46.3344      | -7.37437\n",
       "449.22 | 39.69    | 40.1917      | -0.501749\n",
       "560.91 | 46.51    | 50.5741      | -4.06415\n",
       "519.12 | 37.68    | 46.6895      | -9.00946\n",
       "595.38 | 53.48    | 53.7784      | -0.298385\n",
       "... (30 rows omitted)"
      ]
     },
     "execution_count": 22,
     "metadata": {},
     "output_type": "execute_result"
    }
   ],
   "source": [
    "jumps = jumps.with_columns(\n",
    "        'Fitted Value', result.predict(),\n",
    "        'Residual', jumps.column('vertical') - result.predict())\n",
    "jumps"
   ]
  },
  {
   "cell_type": "code",
   "execution_count": 23,
   "metadata": {},
   "outputs": [
    {
     "data": {
      "text/plain": [
       "1384.5104685768981"
      ]
     },
     "execution_count": 23,
     "metadata": {},
     "output_type": "execute_result"
    }
   ],
   "source": [
    "SSE = np.sum(jumps.column('Residual')**2)\n",
    "SSE "
   ]
  },
  {
   "cell_type": "code",
   "execution_count": 24,
   "metadata": {},
   "outputs": [
    {
     "data": {
      "text/plain": [
       "4555.3496975"
      ]
     },
     "execution_count": 24,
     "metadata": {},
     "output_type": "execute_result"
    }
   ],
   "source": [
    "SST = np.sum((jumps.column('vertical')-np.mean(jumps.column('vertical')))**2)\n",
    "SST"
   ]
  },
  {
   "cell_type": "code",
   "execution_count": 25,
   "metadata": {},
   "outputs": [
    {
     "data": {
      "text/plain": [
       "3170.8392289231024"
      ]
     },
     "execution_count": 25,
     "metadata": {},
     "output_type": "execute_result"
    }
   ],
   "source": [
    "SSR = np.sum((jumps.column('Fitted Value')-np.mean(jumps.column('vertical')))**2)\n",
    "SSR"
   ]
  },
  {
   "cell_type": "code",
   "execution_count": 26,
   "metadata": {},
   "outputs": [
    {
     "data": {
      "text/plain": [
       "0.6960693337469295"
      ]
     },
     "execution_count": 26,
     "metadata": {},
     "output_type": "execute_result"
    }
   ],
   "source": [
    "R2 = 1-SSE/SST\n",
    "R2"
   ]
  },
  {
   "cell_type": "markdown",
   "metadata": {},
   "source": [
    " The coefficient of determination ($R^2$)= 0.696."
   ]
  },
  {
   "cell_type": "code",
   "execution_count": 27,
   "metadata": {},
   "outputs": [
    {
     "data": {
      "text/plain": [
       "0.6880711583192171"
      ]
     },
     "execution_count": 27,
     "metadata": {},
     "output_type": "execute_result"
    }
   ],
   "source": [
    "n = jumps.num_rows\n",
    "k = 1   \n",
    "adjR2 = 1-(1-R2)*(n-1)/(n-k-1)\n",
    "adjR2"
   ]
  },
  {
   "cell_type": "markdown",
   "metadata": {},
   "source": [
    "The adjusted $R^2$ = 0.688."
   ]
  },
  {
   "cell_type": "markdown",
   "metadata": {},
   "source": [
    "The same as the table."
   ]
  },
  {
   "cell_type": "markdown",
   "metadata": {},
   "source": [
    "#### 6. \n",
    "Using SSE, SST, and/or SSR computed above, calculate the F value for the overall fit and the p-value associated with the overall fit. \n",
    "\n",
    "Compare these with the values given in the summary table. Does the fit appear to be statistically significant? \n"
   ]
  },
  {
   "cell_type": "code",
   "execution_count": 28,
   "metadata": {},
   "outputs": [],
   "source": [
    "p = 2  #beta_0 and beta_1\n",
    "n = jumps.num_rows"
   ]
  },
  {
   "cell_type": "code",
   "execution_count": 29,
   "metadata": {},
   "outputs": [
    {
     "data": {
      "text/plain": [
       "3170.8392289231024"
      ]
     },
     "execution_count": 29,
     "metadata": {},
     "output_type": "execute_result"
    }
   ],
   "source": [
    "SSR = np.sum((jumps.column('Fitted Value')-np.mean(jumps.column('vertical')))**2)\n",
    "SSR"
   ]
  },
  {
   "cell_type": "code",
   "execution_count": 30,
   "metadata": {},
   "outputs": [
    {
     "data": {
      "text/plain": [
       "87.02851544555553"
      ]
     },
     "execution_count": 30,
     "metadata": {},
     "output_type": "execute_result"
    }
   ],
   "source": [
    "F = SSR/(p-1)/(SSE/(n-p))\n",
    "F"
   ]
  },
  {
   "cell_type": "code",
   "execution_count": 31,
   "metadata": {},
   "outputs": [
    {
     "data": {
      "text/plain": [
       "2.269638858018968e-11"
      ]
     },
     "execution_count": 31,
     "metadata": {},
     "output_type": "execute_result"
    }
   ],
   "source": [
    "stats.f.sf(F, p-1, n-p)"
   ]
  },
  {
   "cell_type": "markdown",
   "metadata": {},
   "source": [
    "The value is almost the same, p<0.05, the fit appear to be statistically significant."
   ]
  },
  {
   "cell_type": "markdown",
   "metadata": {},
   "source": [
    "## Problem 3.\n",
    "\n",
    "Farmer Heinz is concerned about how the quantity of fertilizer (in pounds per plot) might affect the yield of tomatoes (in bushels per plot). The data are contained in the comma delimited text file `tomato.txt`."
   ]
  },
  {
   "cell_type": "code",
   "execution_count": 32,
   "metadata": {},
   "outputs": [
    {
     "data": {
      "text/html": [
       "<table border=\"1\" class=\"dataframe\">\n",
       "    <thead>\n",
       "        <tr>\n",
       "            <th>plot</th> <th>Yield</th> <th>fertilizer</th>\n",
       "        </tr>\n",
       "    </thead>\n",
       "    <tbody>\n",
       "        <tr>\n",
       "            <td>2   </td> <td>18   </td> <td>5         </td>\n",
       "        </tr>\n",
       "        <tr>\n",
       "            <td>7   </td> <td>20   </td> <td>6         </td>\n",
       "        </tr>\n",
       "        <tr>\n",
       "            <td>11  </td> <td>21   </td> <td>8         </td>\n",
       "        </tr>\n",
       "        <tr>\n",
       "            <td>9   </td> <td>25   </td> <td>11        </td>\n",
       "        </tr>\n",
       "        <tr>\n",
       "            <td>1   </td> <td>24   </td> <td>12        </td>\n",
       "        </tr>\n",
       "        <tr>\n",
       "            <td>10  </td> <td>27   </td> <td>13        </td>\n",
       "        </tr>\n",
       "        <tr>\n",
       "            <td>6   </td> <td>30   </td> <td>14        </td>\n",
       "        </tr>\n",
       "        <tr>\n",
       "            <td>3   </td> <td>31   </td> <td>15        </td>\n",
       "        </tr>\n",
       "        <tr>\n",
       "            <td>4   </td> <td>33   </td> <td>17        </td>\n",
       "        </tr>\n",
       "        <tr>\n",
       "            <td>12  </td> <td>29   </td> <td>18        </td>\n",
       "        </tr>\n",
       "        <tr>\n",
       "            <td>5   </td> <td>26   </td> <td>20        </td>\n",
       "        </tr>\n",
       "        <tr>\n",
       "            <td>13  </td> <td>29   </td> <td>22        </td>\n",
       "        </tr>\n",
       "        <tr>\n",
       "            <td>8   </td> <td>25   </td> <td>23        </td>\n",
       "        </tr>\n",
       "        <tr>\n",
       "            <td>14  </td> <td>26   </td> <td>25        </td>\n",
       "        </tr>\n",
       "    </tbody>\n",
       "</table>"
      ],
      "text/plain": [
       "<IPython.core.display.HTML object>"
      ]
     },
     "metadata": {},
     "output_type": "display_data"
    }
   ],
   "source": [
    "tomato = Table.read_table('tomato.csv')\n",
    "tomato = tomato.sort('fertilizer')\n",
    "tomato.show()"
   ]
  },
  {
   "cell_type": "markdown",
   "metadata": {},
   "source": [
    "#### 1. \n",
    "Provide a scatter plot of tomato yield against the quantity of fertilizer used. Does the relationship appear to be linear?"
   ]
  },
  {
   "cell_type": "code",
   "execution_count": 33,
   "metadata": {},
   "outputs": [
    {
     "data": {
      "image/png": "[encoded data removed]",
      "text/plain": [
       "<Figure size 360x360 with 1 Axes>"
      ]
     },
     "metadata": {},
     "output_type": "display_data"
    }
   ],
   "source": [
    "tomato.scatter('fertilizer','Yield')"
   ]
  },
  {
   "cell_type": "markdown",
   "metadata": {},
   "source": [
    "The relationship seems not to be linear. When fertilizer is smaller than 15, the bigger the fertilizer, the bigger the yield. When fertilizer is bigger than 15, the yield will decline when the fertilizer increases."
   ]
  },
  {
   "cell_type": "markdown",
   "metadata": {},
   "source": [
    "#### 2. \n",
    "Conduct a series of regressions on these data with increasingly more complex models. Start with the null model of no relationship (formula='Yield~1'). Then proceed to a linear model, and then a model of order 2, and finally a model of order 3. \n",
    "\n",
    "(1). Plot all four fitted lines in a single plot.\n",
    "\n",
    "(2). State which model you believe is the best and provide a statistically reasonable justification for your choice."
   ]
  },
  {
   "cell_type": "code",
   "execution_count": 34,
   "metadata": {},
   "outputs": [
    {
     "name": "stdout",
     "output_type": "stream",
     "text": [
      "Intercept    26.0\n",
      "dtype: float64\n"
     ]
    }
   ],
   "source": [
    "result0 = smf.ols(formula=\"Yield~1\", \n",
    "                 data=tomato.to_df()).fit()\n",
    "print(result0.params)"
   ]
  },
  {
   "cell_type": "code",
   "execution_count": 35,
   "metadata": {},
   "outputs": [
    {
     "name": "stdout",
     "output_type": "stream",
     "text": [
      "Intercept     19.893331\n",
      "fertilizer     0.409059\n",
      "dtype: float64\n"
     ]
    }
   ],
   "source": [
    "result1 = smf.ols(formula=\"Yield ~ fertilizer\", \n",
    "                 data=tomato.to_df()).fit()\n",
    "print(result1.params)"
   ]
  },
  {
   "cell_type": "code",
   "execution_count": 36,
   "metadata": {},
   "outputs": [
    {
     "name": "stdout",
     "output_type": "stream",
     "text": [
      "Intercept             5.703112\n",
      "fertilizer            2.692343\n",
      "I(fertilizer ** 2)   -0.076713\n",
      "dtype: float64\n"
     ]
    }
   ],
   "source": [
    "result2 = smf.ols(formula=\"Yield ~ fertilizer + I(fertilizer**2)\", \n",
    "                 data=tomato.to_df()).fit()\n",
    "print(result2.params)"
   ]
  },
  {
   "cell_type": "code",
   "execution_count": 37,
   "metadata": {},
   "outputs": [
    {
     "name": "stdout",
     "output_type": "stream",
     "text": [
      "Intercept             9.999913\n",
      "fertilizer            1.542884\n",
      "I(fertilizer ** 2)    0.010310\n",
      "I(fertilizer ** 3)   -0.001958\n",
      "dtype: float64\n"
     ]
    }
   ],
   "source": [
    "result3= smf.ols(formula=\"Yield ~ fertilizer + I(fertilizer**2)+I(fertilizer**3)\", \n",
    "                 data=tomato.to_df()).fit()\n",
    "print(result3.params)"
   ]
  },
  {
   "cell_type": "code",
   "execution_count": 38,
   "metadata": {},
   "outputs": [
    {
     "data": {
      "text/html": [
       "<table border=\"1\" class=\"dataframe\">\n",
       "    <thead>\n",
       "        <tr>\n",
       "            <th>plot</th> <th>Yield</th> <th>fertilizer</th> <th>prediction0</th> <th>prediction1</th> <th>prediction2</th> <th>prediction3</th>\n",
       "        </tr>\n",
       "    </thead>\n",
       "    <tbody>\n",
       "        <tr>\n",
       "            <td>2   </td> <td>18   </td> <td>5         </td> <td>26         </td> <td>21.9386    </td> <td>17.247     </td> <td>17.7274    </td>\n",
       "        </tr>\n",
       "        <tr>\n",
       "            <td>7   </td> <td>20   </td> <td>6         </td> <td>26         </td> <td>22.3477    </td> <td>19.0955    </td> <td>19.2055    </td>\n",
       "        </tr>\n",
       "        <tr>\n",
       "            <td>11  </td> <td>21   </td> <td>8         </td> <td>26         </td> <td>23.1658    </td> <td>22.3323    </td> <td>22.0004    </td>\n",
       "        </tr>\n",
       "        <tr>\n",
       "            <td>9   </td> <td>25   </td> <td>11        </td> <td>26         </td> <td>24.393     </td> <td>26.0367    </td> <td>25.6133    </td>\n",
       "        </tr>\n",
       "        <tr>\n",
       "            <td>1   </td> <td>24   </td> <td>12        </td> <td>26         </td> <td>24.802     </td> <td>26.9646    </td> <td>26.6161    </td>\n",
       "        </tr>\n",
       "        <tr>\n",
       "            <td>10  </td> <td>27   </td> <td>13        </td> <td>26         </td> <td>25.2111    </td> <td>27.7391    </td> <td>27.4985    </td>\n",
       "        </tr>\n",
       "        <tr>\n",
       "            <td>6   </td> <td>30   </td> <td>14        </td> <td>26         </td> <td>25.6202    </td> <td>28.3603    </td> <td>28.2488    </td>\n",
       "        </tr>\n",
       "        <tr>\n",
       "            <td>3   </td> <td>31   </td> <td>15        </td> <td>26         </td> <td>26.0292    </td> <td>28.8279    </td> <td>28.8553    </td>\n",
       "        </tr>\n",
       "        <tr>\n",
       "            <td>4   </td> <td>33   </td> <td>17        </td> <td>26         </td> <td>26.8473    </td> <td>29.303     </td> <td>29.5898    </td>\n",
       "        </tr>\n",
       "        <tr>\n",
       "            <td>12  </td> <td>29   </td> <td>18        </td> <td>26         </td> <td>27.2564    </td> <td>29.3104    </td> <td>29.6943    </td>\n",
       "        </tr>\n",
       "    </tbody>\n",
       "</table>\n",
       "<p>... (4 rows omitted)</p>"
      ],
      "text/plain": [
       "plot | Yield | fertilizer | prediction0 | prediction1 | prediction2 | prediction3\n",
       "2    | 18    | 5          | 26          | 21.9386     | 17.247      | 17.7274\n",
       "7    | 20    | 6          | 26          | 22.3477     | 19.0955     | 19.2055\n",
       "11   | 21    | 8          | 26          | 23.1658     | 22.3323     | 22.0004\n",
       "9    | 25    | 11         | 26          | 24.393      | 26.0367     | 25.6133\n",
       "1    | 24    | 12         | 26          | 24.802      | 26.9646     | 26.6161\n",
       "10   | 27    | 13         | 26          | 25.2111     | 27.7391     | 27.4985\n",
       "6    | 30    | 14         | 26          | 25.6202     | 28.3603     | 28.2488\n",
       "3    | 31    | 15         | 26          | 26.0292     | 28.8279     | 28.8553\n",
       "4    | 33    | 17         | 26          | 26.8473     | 29.303      | 29.5898\n",
       "12   | 29    | 18         | 26          | 27.2564     | 29.3104     | 29.6943\n",
       "... (4 rows omitted)"
      ]
     },
     "execution_count": 38,
     "metadata": {},
     "output_type": "execute_result"
    }
   ],
   "source": [
    "tomato1 = tomato.with_columns('prediction0', result0.predict(),'prediction1', result1.predict(),'prediction2', result2.predict(),'prediction3', result3.predict())\n",
    "tomato1"
   ]
  },
  {
   "cell_type": "code",
   "execution_count": 39,
   "metadata": {},
   "outputs": [
    {
     "data": {
      "image/png": "[encoded data removed]",
      "text/plain": [
       "<Figure size 360x360 with 1 Axes>"
      ]
     },
     "metadata": {},
     "output_type": "display_data"
    }
   ],
   "source": [
    "tomato1.scatter('fertilizer', select=make_array('Yield','prediction0','prediction1','prediction2', 'prediction3'))"
   ]
  },
  {
   "cell_type": "code",
   "execution_count": 40,
   "metadata": {},
   "outputs": [
    {
     "data": {
      "text/plain": [
       "<matplotlib.legend.Legend at 0x1b5aa2cbeb8>"
      ]
     },
     "execution_count": 40,
     "metadata": {},
     "output_type": "execute_result"
    },
    {
     "data": {
      "image/png": "[encoded data removed]",
      "text/plain": [
       "<Figure size 360x360 with 1 Axes>"
      ]
     },
     "metadata": {},
     "output_type": "display_data"
    }
   ],
   "source": [
    "tomato1.scatter('fertilizer','Yield')\n",
    "x = np.linspace(5,25)\n",
    "\n",
    "plots.plot(x,result0.params[0]+x*0)\n",
    "plots.plot(x,result1.params[0]+x*result1.params[1])\n",
    "plots.plot(x,result2.params[0]+x*result2.params[1]+(x**2)*result2.params[2])\n",
    "plots.plot(x,result3.params[0]+x*result3.params[1]+(x**2)*result3.params[2]+(x**3)*result3.params[3])\n",
    "plots.legend(labels=['prediction0','prediction1','prediction2','prediction3','Yield'])"
   ]
  },
  {
   "cell_type": "code",
   "execution_count": 41,
   "metadata": {},
   "outputs": [
    {
     "name": "stderr",
     "output_type": "stream",
     "text": [
      "C:\\Users\\Yujia\\Anaconda3\\lib\\site-packages\\scipy\\stats\\stats.py:1416: UserWarning: kurtosistest only valid for n>=20 ... continuing anyway, n=14\n",
      "  \"anyway, n=%i\" % int(n))\n"
     ]
    },
    {
     "data": {
      "text/html": [
       "<table class=\"simpletable\">\n",
       "<caption>OLS Regression Results</caption>\n",
       "<tr>\n",
       "  <th>Dep. Variable:</th>          <td>Yield</td>      <th>  R-squared:         </th> <td>   0.794</td>\n",
       "</tr>\n",
       "<tr>\n",
       "  <th>Model:</th>                   <td>OLS</td>       <th>  Adj. R-squared:    </th> <td>   0.757</td>\n",
       "</tr>\n",
       "<tr>\n",
       "  <th>Method:</th>             <td>Least Squares</td>  <th>  F-statistic:       </th> <td>   21.20</td>\n",
       "</tr>\n",
       "<tr>\n",
       "  <th>Date:</th>             <td>Wed, 20 Nov 2019</td> <th>  Prob (F-statistic):</th> <td>0.000168</td>\n",
       "</tr>\n",
       "<tr>\n",
       "  <th>Time:</th>                 <td>13:11:02</td>     <th>  Log-Likelihood:    </th> <td> -28.696</td>\n",
       "</tr>\n",
       "<tr>\n",
       "  <th>No. Observations:</th>      <td>    14</td>      <th>  AIC:               </th> <td>   63.39</td>\n",
       "</tr>\n",
       "<tr>\n",
       "  <th>Df Residuals:</th>          <td>    11</td>      <th>  BIC:               </th> <td>   65.31</td>\n",
       "</tr>\n",
       "<tr>\n",
       "  <th>Df Model:</th>              <td>     2</td>      <th>                     </th>     <td> </td>   \n",
       "</tr>\n",
       "<tr>\n",
       "  <th>Covariance Type:</th>      <td>nonrobust</td>    <th>                     </th>     <td> </td>   \n",
       "</tr>\n",
       "</table>\n",
       "<table class=\"simpletable\">\n",
       "<tr>\n",
       "           <td></td>             <th>coef</th>     <th>std err</th>      <th>t</th>      <th>P>|t|</th>  <th>[0.025</th>    <th>0.975]</th>  \n",
       "</tr>\n",
       "<tr>\n",
       "  <th>Intercept</th>          <td>    5.7031</td> <td>    3.300</td> <td>    1.728</td> <td> 0.112</td> <td>   -1.561</td> <td>   12.967</td>\n",
       "</tr>\n",
       "<tr>\n",
       "  <th>fertilizer</th>         <td>    2.6923</td> <td>    0.481</td> <td>    5.592</td> <td> 0.000</td> <td>    1.633</td> <td>    3.752</td>\n",
       "</tr>\n",
       "<tr>\n",
       "  <th>I(fertilizer ** 2)</th> <td>   -0.0767</td> <td>    0.016</td> <td>   -4.835</td> <td> 0.001</td> <td>   -0.112</td> <td>   -0.042</td>\n",
       "</tr>\n",
       "</table>\n",
       "<table class=\"simpletable\">\n",
       "<tr>\n",
       "  <th>Omnibus:</th>       <td> 0.165</td> <th>  Durbin-Watson:     </th> <td>   1.628</td>\n",
       "</tr>\n",
       "<tr>\n",
       "  <th>Prob(Omnibus):</th> <td> 0.921</td> <th>  Jarque-Bera (JB):  </th> <td>   0.371</td>\n",
       "</tr>\n",
       "<tr>\n",
       "  <th>Skew:</th>          <td> 0.073</td> <th>  Prob(JB):          </th> <td>   0.831</td>\n",
       "</tr>\n",
       "<tr>\n",
       "  <th>Kurtosis:</th>      <td> 2.216</td> <th>  Cond. No.          </th> <td>1.87e+03</td>\n",
       "</tr>\n",
       "</table><br/><br/>Warnings:<br/>[1] Standard Errors assume that the covariance matrix of the errors is correctly specified.<br/>[2] The condition number is large, 1.87e+03. This might indicate that there are<br/>strong multicollinearity or other numerical problems."
      ],
      "text/plain": [
       "<class 'statsmodels.iolib.summary.Summary'>\n",
       "\"\"\"\n",
       "                            OLS Regression Results                            \n",
       "==============================================================================\n",
       "Dep. Variable:                  Yield   R-squared:                       0.794\n",
       "Model:                            OLS   Adj. R-squared:                  0.757\n",
       "Method:                 Least Squares   F-statistic:                     21.20\n",
       "Date:                Wed, 20 Nov 2019   Prob (F-statistic):           0.000168\n",
       "Time:                        13:11:02   Log-Likelihood:                -28.696\n",
       "No. Observations:                  14   AIC:                             63.39\n",
       "Df Residuals:                      11   BIC:                             65.31\n",
       "Df Model:                           2                                         \n",
       "Covariance Type:            nonrobust                                         \n",
       "======================================================================================\n",
       "                         coef    std err          t      P>|t|      [0.025      0.975]\n",
       "--------------------------------------------------------------------------------------\n",
       "Intercept              5.7031      3.300      1.728      0.112      -1.561      12.967\n",
       "fertilizer             2.6923      0.481      5.592      0.000       1.633       3.752\n",
       "I(fertilizer ** 2)    -0.0767      0.016     -4.835      0.001      -0.112      -0.042\n",
       "==============================================================================\n",
       "Omnibus:                        0.165   Durbin-Watson:                   1.628\n",
       "Prob(Omnibus):                  0.921   Jarque-Bera (JB):                0.371\n",
       "Skew:                           0.073   Prob(JB):                        0.831\n",
       "Kurtosis:                       2.216   Cond. No.                     1.87e+03\n",
       "==============================================================================\n",
       "\n",
       "Warnings:\n",
       "[1] Standard Errors assume that the covariance matrix of the errors is correctly specified.\n",
       "[2] The condition number is large, 1.87e+03. This might indicate that there are\n",
       "strong multicollinearity or other numerical problems.\n",
       "\"\"\""
      ]
     },
     "execution_count": 41,
     "metadata": {},
     "output_type": "execute_result"
    }
   ],
   "source": [
    "result2.summary()"
   ]
  },
  {
   "cell_type": "code",
   "execution_count": 42,
   "metadata": {},
   "outputs": [
    {
     "data": {
      "text/html": [
       "<table class=\"simpletable\">\n",
       "<caption>OLS Regression Results</caption>\n",
       "<tr>\n",
       "  <th>Dep. Variable:</th>          <td>Yield</td>      <th>  R-squared:         </th> <td>   0.801</td>\n",
       "</tr>\n",
       "<tr>\n",
       "  <th>Model:</th>                   <td>OLS</td>       <th>  Adj. R-squared:    </th> <td>   0.741</td>\n",
       "</tr>\n",
       "<tr>\n",
       "  <th>Method:</th>             <td>Least Squares</td>  <th>  F-statistic:       </th> <td>   13.41</td>\n",
       "</tr>\n",
       "<tr>\n",
       "  <th>Date:</th>             <td>Wed, 20 Nov 2019</td> <th>  Prob (F-statistic):</th> <td>0.000773</td>\n",
       "</tr>\n",
       "<tr>\n",
       "  <th>Time:</th>                 <td>13:11:02</td>     <th>  Log-Likelihood:    </th> <td> -28.457</td>\n",
       "</tr>\n",
       "<tr>\n",
       "  <th>No. Observations:</th>      <td>    14</td>      <th>  AIC:               </th> <td>   64.91</td>\n",
       "</tr>\n",
       "<tr>\n",
       "  <th>Df Residuals:</th>          <td>    10</td>      <th>  BIC:               </th> <td>   67.47</td>\n",
       "</tr>\n",
       "<tr>\n",
       "  <th>Df Model:</th>              <td>     3</td>      <th>                     </th>     <td> </td>   \n",
       "</tr>\n",
       "<tr>\n",
       "  <th>Covariance Type:</th>      <td>nonrobust</td>    <th>                     </th>     <td> </td>   \n",
       "</tr>\n",
       "</table>\n",
       "<table class=\"simpletable\">\n",
       "<tr>\n",
       "           <td></td>             <th>coef</th>     <th>std err</th>      <th>t</th>      <th>P>|t|</th>  <th>[0.025</th>    <th>0.975]</th>  \n",
       "</tr>\n",
       "<tr>\n",
       "  <th>Intercept</th>          <td>    9.9999</td> <td>    8.052</td> <td>    1.242</td> <td> 0.243</td> <td>   -7.942</td> <td>   27.941</td>\n",
       "</tr>\n",
       "<tr>\n",
       "  <th>fertilizer</th>         <td>    1.5429</td> <td>    2.014</td> <td>    0.766</td> <td> 0.461</td> <td>   -2.945</td> <td>    6.031</td>\n",
       "</tr>\n",
       "<tr>\n",
       "  <th>I(fertilizer ** 2)</th> <td>    0.0103</td> <td>    0.149</td> <td>    0.069</td> <td> 0.946</td> <td>   -0.321</td> <td>    0.342</td>\n",
       "</tr>\n",
       "<tr>\n",
       "  <th>I(fertilizer ** 3)</th> <td>   -0.0020</td> <td>    0.003</td> <td>   -0.589</td> <td> 0.569</td> <td>   -0.009</td> <td>    0.005</td>\n",
       "</tr>\n",
       "</table>\n",
       "<table class=\"simpletable\">\n",
       "<tr>\n",
       "  <th>Omnibus:</th>       <td> 0.147</td> <th>  Durbin-Watson:     </th> <td>   1.747</td>\n",
       "</tr>\n",
       "<tr>\n",
       "  <th>Prob(Omnibus):</th> <td> 0.929</td> <th>  Jarque-Bera (JB):  </th> <td>   0.359</td>\n",
       "</tr>\n",
       "<tr>\n",
       "  <th>Skew:</th>          <td>-0.063</td> <th>  Prob(JB):          </th> <td>   0.836</td>\n",
       "</tr>\n",
       "<tr>\n",
       "  <th>Kurtosis:</th>      <td> 2.226</td> <th>  Cond. No.          </th> <td>9.73e+04</td>\n",
       "</tr>\n",
       "</table><br/><br/>Warnings:<br/>[1] Standard Errors assume that the covariance matrix of the errors is correctly specified.<br/>[2] The condition number is large, 9.73e+04. This might indicate that there are<br/>strong multicollinearity or other numerical problems."
      ],
      "text/plain": [
       "<class 'statsmodels.iolib.summary.Summary'>\n",
       "\"\"\"\n",
       "                            OLS Regression Results                            \n",
       "==============================================================================\n",
       "Dep. Variable:                  Yield   R-squared:                       0.801\n",
       "Model:                            OLS   Adj. R-squared:                  0.741\n",
       "Method:                 Least Squares   F-statistic:                     13.41\n",
       "Date:                Wed, 20 Nov 2019   Prob (F-statistic):           0.000773\n",
       "Time:                        13:11:02   Log-Likelihood:                -28.457\n",
       "No. Observations:                  14   AIC:                             64.91\n",
       "Df Residuals:                      10   BIC:                             67.47\n",
       "Df Model:                           3                                         \n",
       "Covariance Type:            nonrobust                                         \n",
       "======================================================================================\n",
       "                         coef    std err          t      P>|t|      [0.025      0.975]\n",
       "--------------------------------------------------------------------------------------\n",
       "Intercept              9.9999      8.052      1.242      0.243      -7.942      27.941\n",
       "fertilizer             1.5429      2.014      0.766      0.461      -2.945       6.031\n",
       "I(fertilizer ** 2)     0.0103      0.149      0.069      0.946      -0.321       0.342\n",
       "I(fertilizer ** 3)    -0.0020      0.003     -0.589      0.569      -0.009       0.005\n",
       "==============================================================================\n",
       "Omnibus:                        0.147   Durbin-Watson:                   1.747\n",
       "Prob(Omnibus):                  0.929   Jarque-Bera (JB):                0.359\n",
       "Skew:                          -0.063   Prob(JB):                        0.836\n",
       "Kurtosis:                       2.226   Cond. No.                     9.73e+04\n",
       "==============================================================================\n",
       "\n",
       "Warnings:\n",
       "[1] Standard Errors assume that the covariance matrix of the errors is correctly specified.\n",
       "[2] The condition number is large, 9.73e+04. This might indicate that there are\n",
       "strong multicollinearity or other numerical problems.\n",
       "\"\"\""
      ]
     },
     "execution_count": 42,
     "metadata": {},
     "output_type": "execute_result"
    }
   ],
   "source": [
    "result3.summary()"
   ]
  },
  {
   "cell_type": "code",
   "execution_count": 43,
   "metadata": {},
   "outputs": [
    {
     "name": "stderr",
     "output_type": "stream",
     "text": [
      "C:\\Users\\Yujia\\Anaconda3\\lib\\site-packages\\scipy\\stats\\_distn_infrastructure.py:877: RuntimeWarning: invalid value encountered in greater\n",
      "  return (self.a < x) & (x < self.b)\n",
      "C:\\Users\\Yujia\\Anaconda3\\lib\\site-packages\\scipy\\stats\\_distn_infrastructure.py:877: RuntimeWarning: invalid value encountered in less\n",
      "  return (self.a < x) & (x < self.b)\n",
      "C:\\Users\\Yujia\\Anaconda3\\lib\\site-packages\\scipy\\stats\\_distn_infrastructure.py:1831: RuntimeWarning: invalid value encountered in less_equal\n",
      "  cond2 = cond0 & (x <= self.a)\n"
     ]
    },
    {
     "data": {
      "text/html": [
       "<div>\n",
       "<style scoped>\n",
       "    .dataframe tbody tr th:only-of-type {\n",
       "        vertical-align: middle;\n",
       "    }\n",
       "\n",
       "    .dataframe tbody tr th {\n",
       "        vertical-align: top;\n",
       "    }\n",
       "\n",
       "    .dataframe thead th {\n",
       "        text-align: right;\n",
       "    }\n",
       "</style>\n",
       "<table border=\"1\" class=\"dataframe\">\n",
       "  <thead>\n",
       "    <tr style=\"text-align: right;\">\n",
       "      <th></th>\n",
       "      <th>df_resid</th>\n",
       "      <th>ssr</th>\n",
       "      <th>df_diff</th>\n",
       "      <th>ss_diff</th>\n",
       "      <th>F</th>\n",
       "      <th>Pr(&gt;F)</th>\n",
       "    </tr>\n",
       "  </thead>\n",
       "  <tbody>\n",
       "    <tr>\n",
       "      <th>0</th>\n",
       "      <td>11.0</td>\n",
       "      <td>49.432849</td>\n",
       "      <td>0.0</td>\n",
       "      <td>NaN</td>\n",
       "      <td>NaN</td>\n",
       "      <td>NaN</td>\n",
       "    </tr>\n",
       "    <tr>\n",
       "      <th>1</th>\n",
       "      <td>10.0</td>\n",
       "      <td>47.776599</td>\n",
       "      <td>1.0</td>\n",
       "      <td>1.656249</td>\n",
       "      <td>0.346665</td>\n",
       "      <td>0.569067</td>\n",
       "    </tr>\n",
       "  </tbody>\n",
       "</table>\n",
       "</div>"
      ],
      "text/plain": [
       "   df_resid        ssr  df_diff   ss_diff         F    Pr(>F)\n",
       "0      11.0  49.432849      0.0       NaN       NaN       NaN\n",
       "1      10.0  47.776599      1.0  1.656249  0.346665  0.569067"
      ]
     },
     "execution_count": 43,
     "metadata": {},
     "output_type": "execute_result"
    }
   ],
   "source": [
    "anova_lm(result2, result3)"
   ]
  },
  {
   "cell_type": "markdown",
   "metadata": {},
   "source": [
    "This is a hypothesis on two models. The null hypothesis is that two models fit the data equally well. Since here the p-value is bigger than 0.05, we have strong evidence that the quadratic model and the cubic model are equally well. In this case, we prefer the parsimonious model, i.e., the model with fewer parameters. \n"
   ]
  },
  {
   "cell_type": "code",
   "execution_count": null,
   "metadata": {},
   "outputs": [],
   "source": []
  }
 ],
 "metadata": {
  "kernelspec": {
   "display_name": "Python 3",
   "language": "python",
   "name": "python3"
  },
  "language_info": {
   "codemirror_mode": {
    "name": "ipython",
    "version": 3
   },
   "file_extension": ".py",
   "mimetype": "text/x-python",
   "name": "python",
   "nbconvert_exporter": "python",
   "pygments_lexer": "ipython3",
   "version": "3.7.3"
  }
 },
 "nbformat": 4,
 "nbformat_minor": 2
}
