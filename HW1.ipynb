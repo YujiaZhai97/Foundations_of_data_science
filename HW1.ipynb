{
 "cells": [
  {
   "cell_type": "code",
   "execution_count": 49,
   "metadata": {},
   "outputs": [],
   "source": [
    "from datascience import *\n",
    "import numpy as np"
   ]
  },
  {
   "cell_type": "code",
   "execution_count": 63,
   "metadata": {},
   "outputs": [],
   "source": [
    "Fahrenheit=make_array(50,54,66,81,80,84,85,67,45,40,42,38,50,40,30,20,25,35,40) #creat the array"
   ]
  },
  {
   "cell_type": "code",
   "execution_count": 64,
   "metadata": {},
   "outputs": [
    {
     "data": {
      "text/plain": [
       "array([50, 54, 66, 81, 80, 84, 85, 67, 45, 40, 42, 38, 50, 40, 30, 20, 25,\n",
       "       35, 40], dtype=int64)"
      ]
     },
     "execution_count": 64,
     "metadata": {},
     "output_type": "execute_result"
    }
   ],
   "source": [
    "Fahrenheit"
   ]
  },
  {
   "cell_type": "code",
   "execution_count": 65,
   "metadata": {},
   "outputs": [],
   "source": [
    "Celsius=(Fahrenheit-32)/1.8 #convert to Celsius"
   ]
  },
  {
   "cell_type": "code",
   "execution_count": 66,
   "metadata": {},
   "outputs": [
    {
     "data": {
      "text/plain": [
       "array([10.        , 12.22222222, 18.88888889, 27.22222222, 26.66666667,\n",
       "       28.88888889, 29.44444444, 19.44444444,  7.22222222,  4.44444444,\n",
       "        5.55555556,  3.33333333, 10.        ,  4.44444444, -1.11111111,\n",
       "       -6.66666667, -3.88888889,  1.66666667,  4.44444444])"
      ]
     },
     "execution_count": 66,
     "metadata": {},
     "output_type": "execute_result"
    }
   ],
   "source": [
    "Celsius"
   ]
  },
  {
   "cell_type": "code",
   "execution_count": 67,
   "metadata": {},
   "outputs": [
    {
     "name": "stdout",
     "output_type": "stream",
     "text": [
      "The average temperature in Celsius is 10.64327485380117 °C\n"
     ]
    }
   ],
   "source": [
    "print('The average temperature in Celsius is',Celsius.mean(),'\\u00b0C') # print the average temperature in Celsius"
   ]
  },
  {
   "cell_type": "code",
   "execution_count": 68,
   "metadata": {},
   "outputs": [
    {
     "name": "stdout",
     "output_type": "stream",
     "text": [
      "The maximum temperature in Celsius is 29.444444444444443 °C\n"
     ]
    }
   ],
   "source": [
    "print('The maximum temperature in Celsius is',Celsius.max(),'\\u00b0C',)# print the maximum temperature in Celsius"
   ]
  },
  {
   "cell_type": "code",
   "execution_count": 69,
   "metadata": {},
   "outputs": [
    {
     "name": "stdout",
     "output_type": "stream",
     "text": [
      "The minimum temperature in Celsius is -6.666666666666666 °C\n"
     ]
    }
   ],
   "source": [
    "print('The minimum temperature in Celsius is',Celsius.min(),'\\u00b0C',)# print the average minimum temperature in Celsius"
   ]
  },
  {
   "cell_type": "code",
   "execution_count": 70,
   "metadata": {},
   "outputs": [
    {
     "name": "stdout",
     "output_type": "stream",
     "text": [
      "The number of days in which the temperature is more than the day before is 10 .\n"
     ]
    }
   ],
   "source": [
    "Celsiusd=np.diff(Celsius)\n",
    "Number=sum(i>0 for i in Celsiusd)\n",
    "print('The number of days in which the temperature is more than the day before is',Number,'.')# print the number of days in which the temperature is more than the day before"
   ]
  },
  {
   "cell_type": "code",
   "execution_count": 71,
   "metadata": {},
   "outputs": [],
   "source": [
    "Fahrenheitd=np.diff(Fahrenheit)\n",
    "Fahrenheit1=np.append(Fahrenheitd,0)\n",
    "Fp=Fahrenheit1/Fahrenheit"
   ]
  },
  {
   "cell_type": "code",
   "execution_count": 72,
   "metadata": {},
   "outputs": [
    {
     "data": {
      "text/plain": [
       "0.4"
      ]
     },
     "execution_count": 72,
     "metadata": {},
     "output_type": "execute_result"
    }
   ],
   "source": [
    "Fp.max()"
   ]
  },
  {
   "cell_type": "code",
   "execution_count": 73,
   "metadata": {},
   "outputs": [
    {
     "data": {
      "text/plain": [
       "-0.3333333333333333"
      ]
     },
     "execution_count": 73,
     "metadata": {},
     "output_type": "execute_result"
    }
   ],
   "source": [
    "Fp.min()"
   ]
  },
  {
   "cell_type": "code",
   "execution_count": 74,
   "metadata": {},
   "outputs": [
    {
     "name": "stdout",
     "output_type": "stream",
     "text": [
      "The biggest percentage increase 40.000000%\n"
     ]
    }
   ],
   "source": [
    "print('The biggest percentage increase','{:%}'.format(Fp.max()))# the biggest percentage increase in Fahrenheit"
   ]
  },
  {
   "cell_type": "code",
   "execution_count": 75,
   "metadata": {},
   "outputs": [
    {
     "name": "stdout",
     "output_type": "stream",
     "text": [
      "The biggest percentage decrease -33.333333%\n"
     ]
    }
   ],
   "source": [
    "print('The biggest percentage decrease','{:%}'.format(Fp.min()))# the biggest percentage decrease in Fahrenheit"
   ]
  }
 ],
 "metadata": {
  "kernelspec": {
   "display_name": "Python 3",
   "language": "python",
   "name": "python3"
  },
  "language_info": {
   "codemirror_mode": {
    "name": "ipython",
    "version": 3
   },
   "file_extension": ".py",
   "mimetype": "text/x-python",
   "name": "python",
   "nbconvert_exporter": "python",
   "pygments_lexer": "ipython3",
   "version": "3.7.3"
  }
 },
 "nbformat": 4,
 "nbformat_minor": 2
}
