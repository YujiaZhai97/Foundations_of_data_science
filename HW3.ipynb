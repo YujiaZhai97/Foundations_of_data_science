{
 "cells": [
  {
   "cell_type": "markdown",
   "metadata": {},
   "source": [
    "# Homework 3\n",
    "\n",
    "Run the cell below to import the libraries you might need for this homework. Add any libraries you think you will need, then use methods from class to answer the following questions."
   ]
  },
  {
   "cell_type": "code",
   "execution_count": 1,
   "metadata": {},
   "outputs": [],
   "source": [
    "import numpy as np\n",
    "from datascience import *\n",
    "\n",
    "%matplotlib inline\n",
    "import matplotlib.pyplot as plots\n",
    "plots.style.use('fivethirtyeight')\n"
   ]
  },
  {
   "cell_type": "markdown",
   "metadata": {},
   "source": [
    "## 1. Birth Rates\n"
   ]
  },
  {
   "cell_type": "markdown",
   "metadata": {},
   "source": [
    "The following table gives census-based population estimates for each state on July 1, 2015 and July 1, 2016. The last four columns describe the components of the estimated change in population during this time interval. *For all questions below, assume that the word \"states\" refers to all 52 rows including Puerto Rico & the District of Columbia.* Run the cell below to get the table in the correct format, upon which this problem is based."
   ]
  },
  {
   "cell_type": "code",
   "execution_count": 2,
   "metadata": {},
   "outputs": [
    {
     "data": {
      "text/html": [
       "<table border=\"1\" class=\"dataframe\">\n",
       "    <thead>\n",
       "        <tr>\n",
       "            <th>REGION</th> <th>NAME</th> <th>2015</th> <th>2016</th> <th>BIRTHS</th> <th>DEATHS</th> <th>MIGRATION</th> <th>OTHER</th>\n",
       "        </tr>\n",
       "    </thead>\n",
       "    <tbody>\n",
       "        <tr>\n",
       "            <td>3     </td> <td>Alabama   </td> <td>4,853,875 </td> <td>4,863,300 </td> <td>58,556 </td> <td>52,405 </td> <td>3,874    </td> <td>-600  </td>\n",
       "        </tr>\n",
       "        <tr>\n",
       "            <td>4     </td> <td>Alaska    </td> <td>737,709   </td> <td>741,894   </td> <td>11,255 </td> <td>4,511  </td> <td>-2,557   </td> <td>-2    </td>\n",
       "        </tr>\n",
       "        <tr>\n",
       "            <td>4     </td> <td>Arizona   </td> <td>6,817,565 </td> <td>6,931,071 </td> <td>87,204 </td> <td>56,564 </td> <td>76,405   </td> <td>6,461 </td>\n",
       "        </tr>\n",
       "        <tr>\n",
       "            <td>3     </td> <td>Arkansas  </td> <td>2,977,853 </td> <td>2,988,248 </td> <td>37,936 </td> <td>30,581 </td> <td>3,530    </td> <td>-490  </td>\n",
       "        </tr>\n",
       "        <tr>\n",
       "            <td>4     </td> <td>California</td> <td>38,993,940</td> <td>39,250,017</td> <td>502,848</td> <td>273,850</td> <td>33,530   </td> <td>-6,451</td>\n",
       "        </tr>\n",
       "    </tbody>\n",
       "</table>\n",
       "<p>... (47 rows omitted)</p>"
      ],
      "text/plain": [
       "<IPython.core.display.HTML object>"
      ]
     },
     "metadata": {},
     "output_type": "display_data"
    }
   ],
   "source": [
    "# Don't change this cell; just run it.\n",
    "# From http://www2.census.gov/programs-surveys/popest/datasets/2010-2016/national/totals/nst-est2016-alldata.csv\n",
    "# See http://www2.census.gov/programs-surveys/popest/datasets/2010-2015/national/totals/nst-est2015-alldata.pdf\n",
    "#     for column descriptions. (As of Feb 2017, no descriptions were posted for 2010-2016.)\n",
    "pop = Table.read_table('nst-est2016-alldata.csv').where('SUMLEV', 40).select([1, 4, 12, 13, 27, 34, 62, 69])\n",
    "pop = pop.relabeled(2, '2015').relabeled(3, '2016')\n",
    "pop = pop.relabeled(4, 'BIRTHS').relabeled(5, 'DEATHS')\n",
    "pop = pop.relabeled(6, 'MIGRATION').relabeled(7, 'OTHER')\n",
    "pop.set_format([2, 3, 4, 5, 6, 7], NumberFormatter(decimals=0)).show(5)"
   ]
  },
  {
   "cell_type": "markdown",
   "metadata": {},
   "source": [
    "**Question 1 (3 points).** The annual birth rate for a year-long period is the number of births in that period as a proportion of the population at the start of the period. Which state had the least birth rate?"
   ]
  },
  {
   "cell_type": "code",
   "execution_count": 3,
   "metadata": {},
   "outputs": [
    {
     "data": {
      "text/html": [
       "<table border=\"1\" class=\"dataframe\">\n",
       "    <thead>\n",
       "        <tr>\n",
       "            <th>REGION</th> <th>NAME</th> <th>2015</th> <th>2016</th> <th>BIRTHS</th> <th>DEATHS</th> <th>MIGRATION</th> <th>OTHER</th> <th>BIRTHRATE</th>\n",
       "        </tr>\n",
       "    </thead>\n",
       "    <tbody>\n",
       "        <tr>\n",
       "            <td>X     </td> <td>Puerto Rico</td> <td>3,473,181</td> <td>3,411,307</td> <td>30,991</td> <td>28,108</td> <td>-64,757  </td> <td>0    </td> <td>0.00892294</td>\n",
       "        </tr>\n",
       "    </tbody>\n",
       "</table>\n",
       "<p>... (51 rows omitted)</p>"
      ],
      "text/plain": [
       "<IPython.core.display.HTML object>"
      ]
     },
     "metadata": {},
     "output_type": "display_data"
    }
   ],
   "source": [
    "Q1=pop.with_columns(\"BIRTHRATE\", \n",
    "                        pop.column('BIRTHS')/pop.column('2015'))\n",
    "Q1=Q1.sort('BIRTHRATE').show(1)"
   ]
  },
  {
   "cell_type": "code",
   "execution_count": 4,
   "metadata": {},
   "outputs": [
    {
     "name": "stdout",
     "output_type": "stream",
     "text": [
      "Puerto Rico had the least birth rate.\n"
     ]
    }
   ],
   "source": [
    "print('Puerto Rico had the least birth rate.')"
   ]
  },
  {
   "cell_type": "markdown",
   "metadata": {},
   "source": [
    "**Question 2 (5 points).** Give a table that holds information about the states that had more deaths than births.\n",
    "*Hint: This question requires a method that we used in class. However, this method should be used differently. Remember that to learn about any method and its possible arguments, you may type the method name followed by a \"?\" as shown below. Think of the method that you want to use first, then read about it.*"
   ]
  },
  {
   "cell_type": "code",
   "execution_count": 5,
   "metadata": {},
   "outputs": [
    {
     "data": {
      "text/html": [
       "<table border=\"1\" class=\"dataframe\">\n",
       "    <thead>\n",
       "        <tr>\n",
       "            <th>REGION</th> <th>NAME</th> <th>2015</th> <th>2016</th> <th>BIRTHS</th> <th>DEATHS</th> <th>MIGRATION</th> <th>OTHER</th> <th>deaths-births</th>\n",
       "        </tr>\n",
       "    </thead>\n",
       "    <tbody>\n",
       "        <tr>\n",
       "            <td>1     </td> <td>Maine        </td> <td>1,329,453</td> <td>1,331,479</td> <td>12,542</td> <td>13,842</td> <td>3,954    </td> <td>-628 </td> <td>1300         </td>\n",
       "        </tr>\n",
       "        <tr>\n",
       "            <td>3     </td> <td>West Virginia</td> <td>1,841,053</td> <td>1,831,102</td> <td>19,799</td> <td>22,479</td> <td>-6,583   </td> <td>-688 </td> <td>2680         </td>\n",
       "        </tr>\n",
       "    </tbody>\n",
       "</table>"
      ],
      "text/plain": [
       "<IPython.core.display.HTML object>"
      ]
     },
     "metadata": {},
     "output_type": "display_data"
    }
   ],
   "source": [
    "Q2=pop.with_columns(\"deaths-births\", \n",
    "                        pop.column('DEATHS')-pop.column('BIRTHS'))\n",
    "Q2=Q2.where('deaths-births',are.above(0))\n",
    "Q2.show()"
   ]
  },
  {
   "cell_type": "markdown",
   "metadata": {},
   "source": [
    "**Question 3 (4 points).** The annual rate of migration for a year-long period is the net number of migrations (in and out) as a proportion of the population at the start of the period. The `MIGRATION` column contains estimated annual net migration counts by state. Write a function called `displayHighestMovers`, which takes a table as input and returns as output an array holding the names of states with annual rate of migration was higher than 1%. The array should display the name of these states in the order of their corresponding annual rate of migration from highest to lowest."
   ]
  },
  {
   "cell_type": "code",
   "execution_count": 6,
   "metadata": {},
   "outputs": [
    {
     "data": {
      "text/plain": [
       "array(['Florida', 'Nevada', 'Oregon', 'Washington', 'Idaho', 'Arizona',\n",
       "       'Colorado', 'South Carolina'], dtype='<U20')"
      ]
     },
     "execution_count": 6,
     "metadata": {},
     "output_type": "execute_result"
    }
   ],
   "source": [
    "def displayHighestMovers(x):\n",
    "    migrationrate=x.column('MIGRATION')/x.column('2015')\n",
    "    Q3=x.with_column('MIGRATIONRATE',migrationrate).where('MIGRATIONRATE',are.above(0.01)).sort('MIGRATIONRATE',descending=True)\n",
    "    Q3=Q3.column('NAME')\n",
    "    return Q3\n",
    "displayHighestMovers(pop)\n"
   ]
  },
  {
   "cell_type": "markdown",
   "metadata": {},
   "source": [
    "**Question 4 (2 points).** Construct a table that gives the total number of births in each region."
   ]
  },
  {
   "cell_type": "code",
   "execution_count": 7,
   "metadata": {},
   "outputs": [
    {
     "data": {
      "text/html": [
       "<table border=\"1\" class=\"dataframe\">\n",
       "    <thead>\n",
       "        <tr>\n",
       "            <th>REGION</th> <th>BIRTHS sum</th>\n",
       "        </tr>\n",
       "    </thead>\n",
       "    <tbody>\n",
       "        <tr>\n",
       "            <td>1     </td> <td>629063    </td>\n",
       "        </tr>\n",
       "        <tr>\n",
       "            <td>2     </td> <td>828188    </td>\n",
       "        </tr>\n",
       "        <tr>\n",
       "            <td>3     </td> <td>1540837   </td>\n",
       "        </tr>\n",
       "        <tr>\n",
       "            <td>4     </td> <td>979657    </td>\n",
       "        </tr>\n",
       "        <tr>\n",
       "            <td>X     </td> <td>30991     </td>\n",
       "        </tr>\n",
       "    </tbody>\n",
       "</table>"
      ],
      "text/plain": [
       "REGION | BIRTHS sum\n",
       "1      | 629063\n",
       "2      | 828188\n",
       "3      | 1540837\n",
       "4      | 979657\n",
       "X      | 30991"
      ]
     },
     "execution_count": 7,
     "metadata": {},
     "output_type": "execute_result"
    }
   ],
   "source": [
    "pop.select('REGION','BIRTHS').group('REGION', sum)\n"
   ]
  },
  {
   "cell_type": "markdown",
   "metadata": {},
   "source": [
    "**Question 5 (2 points).** How many states had a total population in 2016 that was smaller than the total number of babies born in region 4?"
   ]
  },
  {
   "cell_type": "code",
   "execution_count": 8,
   "metadata": {},
   "outputs": [
    {
     "name": "stdout",
     "output_type": "stream",
     "text": [
      "AS we can see from Question4, the totoal number of babies born in region 4 is 979657\n"
     ]
    },
    {
     "data": {
      "text/html": [
       "<table border=\"1\" class=\"dataframe\">\n",
       "    <thead>\n",
       "        <tr>\n",
       "            <th>REGION</th> <th>NAME</th> <th>2015</th> <th>2016</th> <th>BIRTHS</th> <th>DEATHS</th> <th>MIGRATION</th> <th>OTHER</th>\n",
       "        </tr>\n",
       "    </thead>\n",
       "    <tbody>\n",
       "        <tr>\n",
       "            <td>4     </td> <td>Alaska              </td> <td>737,709</td> <td>741,894</td> <td>11,255</td> <td>4,511 </td> <td>-2,557   </td> <td>-2   </td>\n",
       "        </tr>\n",
       "        <tr>\n",
       "            <td>3     </td> <td>Delaware            </td> <td>944,076</td> <td>952,065</td> <td>10,922</td> <td>8,945 </td> <td>5,583    </td> <td>429  </td>\n",
       "        </tr>\n",
       "        <tr>\n",
       "            <td>3     </td> <td>District of Columbia</td> <td>670,377</td> <td>681,170</td> <td>9,779 </td> <td>5,455 </td> <td>6,392    </td> <td>77   </td>\n",
       "        </tr>\n",
       "        <tr>\n",
       "            <td>2     </td> <td>North Dakota        </td> <td>756,835</td> <td>757,952</td> <td>11,824</td> <td>6,172 </td> <td>-4,684   </td> <td>149  </td>\n",
       "        </tr>\n",
       "        <tr>\n",
       "            <td>2     </td> <td>South Dakota        </td> <td>857,919</td> <td>865,454</td> <td>12,114</td> <td>7,296 </td> <td>2,573    </td> <td>144  </td>\n",
       "        </tr>\n",
       "        <tr>\n",
       "            <td>1     </td> <td>Vermont             </td> <td>626,088</td> <td>624,594</td> <td>6,035 </td> <td>5,547 </td> <td>-1,910   </td> <td>-72  </td>\n",
       "        </tr>\n",
       "        <tr>\n",
       "            <td>4     </td> <td>Wyoming             </td> <td>586,555</td> <td>585,501</td> <td>7,590 </td> <td>4,838 </td> <td>-3,823   </td> <td>17   </td>\n",
       "        </tr>\n",
       "    </tbody>\n",
       "</table>"
      ],
      "text/plain": [
       "<IPython.core.display.HTML object>"
      ]
     },
     "metadata": {},
     "output_type": "display_data"
    },
    {
     "name": "stdout",
     "output_type": "stream",
     "text": [
      "7 states had a total population in 2016 that was smaller than the total number of babies born in region 4\n"
     ]
    }
   ],
   "source": [
    "print('AS we can see from Question4, the totoal number of babies born in region 4 is 979657')\n",
    "Q3=pop.where('2016',are.below(979657))\n",
    "Q3.show()\n",
    "print('7 states had a total population in 2016 that was smaller than the total number of babies born in region 4')"
   ]
  },
  {
   "cell_type": "markdown",
   "metadata": {},
   "source": [
    "**Question 6 (4 points).** \n",
    "1. Was there an association between birth rate and death rate during this time interval? Support your conclusion with a chart. Hint: set `fit_line=True` for your plot to aid visualiation.\n",
    "2. If an association exists, what might explain it? "
   ]
  },
  {
   "cell_type": "code",
   "execution_count": 9,
   "metadata": {},
   "outputs": [
    {
     "data": {
      "text/plain": [
       "(0.003, 0.015)"
      ]
     },
     "execution_count": 9,
     "metadata": {},
     "output_type": "execute_result"
    },
    {
     "data": {
      "image/png": "[encoded data removed]",
      "text/plain": [
       "<Figure size 360x360 with 1 Axes>"
      ]
     },
     "metadata": {},
     "output_type": "display_data"
    }
   ],
   "source": [
    "Q6=pop.with_columns(\"BIRTHRATE\", \n",
    "                        pop.column('BIRTHS')/pop.column('2015'),'DEATHRATE', pop.column('DEATHS')/pop.column('2015'))\n",
    "Q6.scatter('BIRTHRATE','DEATHRATE',fit_line=True)\n",
    "plots.xlim(0.0075,0.018)\n",
    "plots.ylim(0.003,0.015)\n"
   ]
  },
  {
   "cell_type": "code",
   "execution_count": 10,
   "metadata": {},
   "outputs": [
    {
     "name": "stdout",
     "output_type": "stream",
     "text": [
      "The association exists. The birthrate and deathrate are inversely proportional in all. The deathrate decreased when the birthrate increased. The association matches the aging society theory. The state with low birthdate tends to have high deathrate. \n"
     ]
    }
   ],
   "source": [
    "print('The association exists. The birthrate and deathrate are inversely proportional in all. The deathrate decreased when the birthrate increased. The association matches the aging society theory. The state with low birthdate tends to have high deathrate. ')"
   ]
  },
  {
   "cell_type": "markdown",
   "metadata": {},
   "source": [
    "## 2. Consumer Financial Protection Bureau Complaints\n"
   ]
  },
  {
   "cell_type": "markdown",
   "metadata": {},
   "source": [
    "The Consumer Financial Protection Bureau has collected and published consumer complaints against financial companies since 2011.  These financial companies offer a variety of products."
   ]
  },
  {
   "cell_type": "markdown",
   "metadata": {},
   "source": [
    "**Question 1 (2 points).** Read in the data `cc_2016_fina.csv` and make sure the complaints are from 2016 only. How many complaints are in the dataset?"
   ]
  },
  {
   "cell_type": "code",
   "execution_count": 11,
   "metadata": {},
   "outputs": [],
   "source": [
    "Q21 = Table.read_table('cc_2016_final.csv')"
   ]
  },
  {
   "cell_type": "code",
   "execution_count": 12,
   "metadata": {},
   "outputs": [
    {
     "data": {
      "text/plain": [
       "32334"
      ]
     },
     "execution_count": 12,
     "metadata": {},
     "output_type": "execute_result"
    }
   ],
   "source": [
    "Q21.num_rows"
   ]
  },
  {
   "cell_type": "code",
   "execution_count": 13,
   "metadata": {},
   "outputs": [
    {
     "data": {
      "text/html": [
       "<table border=\"1\" class=\"dataframe\">\n",
       "    <thead>\n",
       "        <tr>\n",
       "            <th>Date received</th> <th>Product</th> <th>Sub-product</th> <th>Issue</th> <th>Sub-issue</th> <th>Consumer complaint narrative</th> <th>Company public response</th> <th>Company</th> <th>State</th> <th>ZIP code</th> <th>Tags</th> <th>Consumer consent provided?</th> <th>Submitted via</th> <th>Date sent to company</th> <th>Company response to consumer</th> <th>Timely response?</th> <th>Consumer disputed?</th> <th>Complaint ID</th>\n",
       "        </tr>\n",
       "    </thead>\n",
       "    <tbody>\n",
       "        <tr>\n",
       "            <td>12/31/16     </td> <td>Debt collection</td> <td>Medical    </td> <td>Improper contact or sharing of info</td> <td>Talked to a third party about my debt</td> <td>nan                         </td> <td>Company believes it acted appropriately as authorized by ...</td> <td>AmeriCollect</td> <td>FL   </td> <td>32068   </td> <td>nan </td> <td>Consent not provided      </td> <td>Web          </td> <td>12/31/16            </td> <td>Closed with explanation     </td> <td>Yes             </td> <td>No                </td> <td>2.27057e+06 </td>\n",
       "        </tr>\n",
       "    </tbody>\n",
       "</table>\n",
       "<p>... (32333 rows omitted)</p>"
      ],
      "text/plain": [
       "<IPython.core.display.HTML object>"
      ]
     },
     "metadata": {},
     "output_type": "display_data"
    }
   ],
   "source": [
    "Q21.show(1)"
   ]
  },
  {
   "cell_type": "markdown",
   "metadata": {},
   "source": [
    "**Question 2 (5 points).** Draw a sorted bar chart that shows the number of complaints per product in descending order."
   ]
  },
  {
   "cell_type": "code",
   "execution_count": 14,
   "metadata": {},
   "outputs": [
    {
     "data": {
      "text/html": [
       "<table border=\"1\" class=\"dataframe\">\n",
       "    <thead>\n",
       "        <tr>\n",
       "            <th>Product</th> <th>count</th>\n",
       "        </tr>\n",
       "    </thead>\n",
       "    <tbody>\n",
       "        <tr>\n",
       "            <td>Credit reporting       </td> <td>8240 </td>\n",
       "        </tr>\n",
       "        <tr>\n",
       "            <td>Debt collection        </td> <td>6789 </td>\n",
       "        </tr>\n",
       "        <tr>\n",
       "            <td>Credit card            </td> <td>6698 </td>\n",
       "        </tr>\n",
       "        <tr>\n",
       "            <td>Bank account or service</td> <td>3337 </td>\n",
       "        </tr>\n",
       "        <tr>\n",
       "            <td>Consumer Loan          </td> <td>3054 </td>\n",
       "        </tr>\n",
       "        <tr>\n",
       "            <td>Student loan           </td> <td>1639 </td>\n",
       "        </tr>\n",
       "        <tr>\n",
       "            <td>Mortgage               </td> <td>1332 </td>\n",
       "        </tr>\n",
       "        <tr>\n",
       "            <td>Money transfers        </td> <td>475  </td>\n",
       "        </tr>\n",
       "        <tr>\n",
       "            <td>Prepaid card           </td> <td>333  </td>\n",
       "        </tr>\n",
       "        <tr>\n",
       "            <td>Payday loan            </td> <td>289  </td>\n",
       "        </tr>\n",
       "        <tr>\n",
       "            <td>Other financial service</td> <td>142  </td>\n",
       "        </tr>\n",
       "        <tr>\n",
       "            <td>nan                    </td> <td>3    </td>\n",
       "        </tr>\n",
       "        <tr>\n",
       "            <td>Virtual currency       </td> <td>2    </td>\n",
       "        </tr>\n",
       "        <tr>\n",
       "            <td>Checking account       </td> <td>1    </td>\n",
       "        </tr>\n",
       "    </tbody>\n",
       "</table>"
      ],
      "text/plain": [
       "<IPython.core.display.HTML object>"
      ]
     },
     "metadata": {},
     "output_type": "display_data"
    }
   ],
   "source": [
    "Q2 = Q21.group('Product').sort('count',descending=True)\n",
    "Q2.show(14)"
   ]
  },
  {
   "cell_type": "code",
   "execution_count": 15,
   "metadata": {},
   "outputs": [
    {
     "data": {
      "image/png": "[encoded data removed]",
      "text/plain": [
       "<Figure size 1440x504 with 1 Axes>"
      ]
     },
     "metadata": {},
     "output_type": "display_data"
    }
   ],
   "source": [
    "Q2.barh('Product','count',width =20)"
   ]
  },
  {
   "cell_type": "markdown",
   "metadata": {},
   "source": [
    "**Question 3 (4 points).** Construct a table that summarizes the number of complaints per company and decide whether it's a good idea to draw a bar chart of that data. Explain your answer."
   ]
  },
  {
   "cell_type": "code",
   "execution_count": 16,
   "metadata": {},
   "outputs": [
    {
     "data": {
      "text/html": [
       "<table border=\"1\" class=\"dataframe\">\n",
       "    <thead>\n",
       "        <tr>\n",
       "            <th>Company</th> <th>count</th>\n",
       "        </tr>\n",
       "    </thead>\n",
       "    <tbody>\n",
       "        <tr>\n",
       "            <td>Experian Information Solutions Inc.</td> <td>7859 </td>\n",
       "        </tr>\n",
       "        <tr>\n",
       "            <td>JPMORGAN CHASE & CO.               </td> <td>2450 </td>\n",
       "        </tr>\n",
       "        <tr>\n",
       "            <td>WELLS FARGO & COMPANY              </td> <td>2198 </td>\n",
       "        </tr>\n",
       "        <tr>\n",
       "            <td>CAPITAL ONE FINANCIAL CORPORATION  </td> <td>1781 </td>\n",
       "        </tr>\n",
       "        <tr>\n",
       "            <td>SYNCHRONY FINANCIAL                </td> <td>1323 </td>\n",
       "        </tr>\n",
       "        <tr>\n",
       "            <td>AMERICAN EXPRESS COMPANY           </td> <td>978  </td>\n",
       "        </tr>\n",
       "        <tr>\n",
       "            <td>DISCOVER BANK                      </td> <td>673  </td>\n",
       "        </tr>\n",
       "        <tr>\n",
       "            <td>U.S. BANCORP                       </td> <td>659  </td>\n",
       "        </tr>\n",
       "        <tr>\n",
       "            <td>PORTFOLIO RECOVERY ASSOCIATES INC  </td> <td>653  </td>\n",
       "        </tr>\n",
       "        <tr>\n",
       "            <td>ENCORE CAPITAL GROUP INC.          </td> <td>625  </td>\n",
       "        </tr>\n",
       "    </tbody>\n",
       "</table>\n",
       "<p>... (858 rows omitted)</p>"
      ],
      "text/plain": [
       "Company                             | count\n",
       "Experian Information Solutions Inc. | 7859\n",
       "JPMORGAN CHASE & CO.                | 2450\n",
       "WELLS FARGO & COMPANY               | 2198\n",
       "CAPITAL ONE FINANCIAL CORPORATION   | 1781\n",
       "SYNCHRONY FINANCIAL                 | 1323\n",
       "AMERICAN EXPRESS COMPANY            | 978\n",
       "DISCOVER BANK                       | 673\n",
       "U.S. BANCORP                        | 659\n",
       "PORTFOLIO RECOVERY ASSOCIATES INC   | 653\n",
       "ENCORE CAPITAL GROUP INC.           | 625\n",
       "... (858 rows omitted)"
      ]
     },
     "execution_count": 16,
     "metadata": {},
     "output_type": "execute_result"
    }
   ],
   "source": [
    "Q3 = Q21.group('Company').sort('count',descending=True)\n",
    "Q3"
   ]
  },
  {
   "cell_type": "code",
   "execution_count": 17,
   "metadata": {},
   "outputs": [
    {
     "name": "stdout",
     "output_type": "stream",
     "text": [
      "It's not a good idea to draw a bar chart. Because there are 868 rows that means that we need to have 868 bars.Too much for us to have a good understanding of the data.\n"
     ]
    }
   ],
   "source": [
    "print(\"It's not a good idea to draw a bar chart. Because there are 868 rows that means that we need to have 868 bars.Too much for us to have a good understanding of the data.\")"
   ]
  },
  {
   "cell_type": "markdown",
   "metadata": {},
   "source": [
    "**Question 4 (4 points).** We denote ${rf}_c$ as the [relative frequency](https://www.mathsisfun.com/data/relative-frequency.html) of complaints made for company c. Draw a bar chart of the 10 companies with highest ${rf}_c$."
   ]
  },
  {
   "cell_type": "code",
   "execution_count": 18,
   "metadata": {},
   "outputs": [
    {
     "data": {
      "image/png": "[encoded data removed]",
      "text/plain": [
       "<Figure size 1080x360 with 1 Axes>"
      ]
     },
     "metadata": {},
     "output_type": "display_data"
    }
   ],
   "source": [
    "Q4=Q3.take(np.arange(10))\n",
    "Q4=Q4.with_columns('relative frequency',Q4.column('count')/32334)\n",
    "Q4.barh('Company','relative frequency',width=15)\n",
    "my_x_ticks = np.arange(0, 0.26, 0.01)\n",
    "a=plots.xticks(my_x_ticks)\n"
   ]
  },
  {
   "cell_type": "markdown",
   "metadata": {},
   "source": [
    "**Note:** Graphs aren't very useful without accurate labels.  Make sure that the text on the horizontal axis of the graph makes sense."
   ]
  },
  {
   "cell_type": "markdown",
   "metadata": {},
   "source": [
    "## 3. Text Analysis (15 points)\n"
   ]
  },
  {
   "cell_type": "markdown",
   "metadata": {},
   "source": [
    "Go to the website gutenberg.org (as done in lecture).\n",
    "1. Choose a book or books to download (other than the ones already dicussed) and parse it the way you like.\n",
    "2. Formulate an interesting question about your book(s). You could be exploring a certain aspect of one book or comparing a certain aspect across different books. \n",
    "3. Analyze the data to answer your question.\n",
    "4. If applicable, mention one thing about the data, that if collected, would have helped you do better analysis.\n",
    "\n",
    "Be sure to generate at least one chart or graph that helps you answer your question.\n",
    "\n",
    "**Note:** This question is opened ended. There is no one right or wrong answer. \n",
    "    It mimics what happens in real life with data science. You often get \n",
    "    dry data and need to see what you can interpret out of the provided data,\n",
    "    then possibly suggest what kind of extra data you wish to collect to make more useful comments.   Remember that you are doing science, and try to come up with a question that is both interesting, and requires a non-trivial amount of work to answer.\n",
    "    "
   ]
  },
  {
   "cell_type": "code",
   "execution_count": 19,
   "metadata": {},
   "outputs": [],
   "source": [
    "from datascience.predicates import are\n",
    "import matplotlib  #plotting library\n",
    "matplotlib.use('Agg', warn=False)   #this defines the backend\n",
    "from urllib.request import urlopen #library for reading urls\n",
    "import re   #this allows us to operate on regular expressions\n",
    "             # to learn about regular expressions, look at the unix\n",
    "            # command grep\n",
    "        \n",
    "#def read_url(url): \n",
    "#    return re.sub('\\\\s+', ' ', urlopen(url).read().decode()"
   ]
  },
  {
   "cell_type": "code",
   "execution_count": 20,
   "metadata": {},
   "outputs": [
    {
     "data": {
      "text/html": [
       "<table border=\"1\" class=\"dataframe\">\n",
       "    <thead>\n",
       "        <tr>\n",
       "            <th>The Life and Advantures of Robinson Crusoe</th>\n",
       "        </tr>\n",
       "    </thead>\n",
       "    <tbody>\n",
       "        <tr>\n",
       "            <td>I—START IN LIFE I was born in the year 1632, in the city ...</td>\n",
       "        </tr>\n",
       "        <tr>\n",
       "            <td>II—SLAVERY AND ESCAPE That evil influence which carried  ...</td>\n",
       "        </tr>\n",
       "        <tr>\n",
       "            <td>III—WRECKED ON A DESERT ISLAND After this stop, we made  ...</td>\n",
       "        </tr>\n",
       "        <tr>\n",
       "            <td>IV—FIRST WEEKS ON THE ISLAND When I waked it was broad d ...</td>\n",
       "        </tr>\n",
       "        <tr>\n",
       "            <td>V—BUILDS A HOUSE—THE JOURNAL September 30, 1659.—I, poor ...</td>\n",
       "        </tr>\n",
       "        <tr>\n",
       "            <td>VI—ILL AND CONSCIENCE-STRICKEN When I came down to the s ...</td>\n",
       "        </tr>\n",
       "        <tr>\n",
       "            <td>VII—AGRICULTURAL EXPERIENCE I had now been in this unhap ...</td>\n",
       "        </tr>\n",
       "        <tr>\n",
       "            <td>VIII—SURVEYS HIS POSITION I mentioned before that I had  ...</td>\n",
       "        </tr>\n",
       "        <tr>\n",
       "            <td>IX—A BOAT But first I was to prepare more land, for I ha ...</td>\n",
       "        </tr>\n",
       "        <tr>\n",
       "            <td>X—TAMES GOATS I cannot say that after this, for five yea ...</td>\n",
       "        </tr>\n",
       "        <tr>\n",
       "            <td>XI—FINDS PRINT OF MAN’S FOOT ON THE SAND It would have m ...</td>\n",
       "        </tr>\n",
       "        <tr>\n",
       "            <td>XII—A CAVE RETREAT While this was doing, I was not altog ...</td>\n",
       "        </tr>\n",
       "        <tr>\n",
       "            <td>XIII—WRECK OF A SPANISH SHIP I was now in the twenty-thi ...</td>\n",
       "        </tr>\n",
       "        <tr>\n",
       "            <td>XIV—A DREAM REALISED Having now brought all my things on ...</td>\n",
       "        </tr>\n",
       "        <tr>\n",
       "            <td>XV—FRIDAY’S EDUCATION After I had been two or three days ...</td>\n",
       "        </tr>\n",
       "        <tr>\n",
       "            <td>XVI—RESCUE OF PRISONERS FROM CANNIBALS Upon the whole, I ...</td>\n",
       "        </tr>\n",
       "        <tr>\n",
       "            <td>XVII—VISIT OF MUTINEERS In a little time, however, no mo ...</td>\n",
       "        </tr>\n",
       "        <tr>\n",
       "            <td>XVIII—THE SHIP RECOVERED While we were thus preparing ou ...</td>\n",
       "        </tr>\n",
       "        <tr>\n",
       "            <td>XIX—RETURN TO ENGLAND Having done all this I left them t ...</td>\n",
       "        </tr>\n",
       "        <tr>\n",
       "            <td>XX—FIGHT BETWEEN FRIDAY AND A BEAR But never was a fight ...</td>\n",
       "        </tr>\n",
       "    </tbody>\n",
       "</table>"
      ],
      "text/plain": [
       "<IPython.core.display.HTML object>"
      ]
     },
     "metadata": {},
     "output_type": "display_data"
    }
   ],
   "source": [
    "#1 part\n",
    "robinson_url = 'http://www.gutenberg.org/files/521/521-0.txt'\n",
    "robinson_chapters = re.sub('\\\\s+', ' ', urlopen(robinson_url).read().decode()).split('CHAPTER ')[1:]\n",
    "robinson_data = Table().with_columns('The Life and Advantures of Robinson Crusoe', robinson_chapters)\n",
    "robinson_data.show()"
   ]
  },
  {
   "cell_type": "code",
   "execution_count": 21,
   "metadata": {},
   "outputs": [
    {
     "name": "stdout",
     "output_type": "stream",
     "text": [
      "question: As I was tring to read the book and found it always talks about Friday. I did't understand the word's meaning here. So I want to \n",
      "find the beginning of the story about the word. This question might be defined as tring to find what is the first palce when a word appears and it's special meaning.\n"
     ]
    }
   ],
   "source": [
    "#2 part\n",
    "print(\"question: As I was tring to read the book and found it always talks about Friday. I did't understand the word's meaning here. So I want to \\nfind the beginning of the story about the word. This question might be defined as tring to find what is the first palce when a word appears and it's special meaning.\" )"
   ]
  },
  {
   "cell_type": "code",
   "execution_count": 22,
   "metadata": {},
   "outputs": [
    {
     "data": {
      "text/plain": [
       "20"
      ]
     },
     "execution_count": 22,
     "metadata": {},
     "output_type": "execute_result"
    }
   ],
   "source": [
    "#3\n",
    "robinson_data.num_rows"
   ]
  },
  {
   "cell_type": "code",
   "execution_count": 23,
   "metadata": {},
   "outputs": [
    {
     "data": {
      "text/html": [
       "<table border=\"1\" class=\"dataframe\">\n",
       "    <thead>\n",
       "        <tr>\n",
       "            <th>Chapter</th> <th>Friday</th>\n",
       "        </tr>\n",
       "    </thead>\n",
       "    <tbody>\n",
       "        <tr>\n",
       "            <td>1      </td> <td>0     </td>\n",
       "        </tr>\n",
       "        <tr>\n",
       "            <td>2      </td> <td>0     </td>\n",
       "        </tr>\n",
       "        <tr>\n",
       "            <td>3      </td> <td>0     </td>\n",
       "        </tr>\n",
       "        <tr>\n",
       "            <td>4      </td> <td>0     </td>\n",
       "        </tr>\n",
       "        <tr>\n",
       "            <td>5      </td> <td>0     </td>\n",
       "        </tr>\n",
       "        <tr>\n",
       "            <td>6      </td> <td>0     </td>\n",
       "        </tr>\n",
       "        <tr>\n",
       "            <td>7      </td> <td>0     </td>\n",
       "        </tr>\n",
       "        <tr>\n",
       "            <td>8      </td> <td>0     </td>\n",
       "        </tr>\n",
       "        <tr>\n",
       "            <td>9      </td> <td>0     </td>\n",
       "        </tr>\n",
       "        <tr>\n",
       "            <td>10     </td> <td>0     </td>\n",
       "        </tr>\n",
       "        <tr>\n",
       "            <td>11     </td> <td>0     </td>\n",
       "        </tr>\n",
       "        <tr>\n",
       "            <td>12     </td> <td>0     </td>\n",
       "        </tr>\n",
       "        <tr>\n",
       "            <td>13     </td> <td>0     </td>\n",
       "        </tr>\n",
       "        <tr>\n",
       "            <td>14     </td> <td>9     </td>\n",
       "        </tr>\n",
       "        <tr>\n",
       "            <td>15     </td> <td>36    </td>\n",
       "        </tr>\n",
       "        <tr>\n",
       "            <td>16     </td> <td>79    </td>\n",
       "        </tr>\n",
       "        <tr>\n",
       "            <td>17     </td> <td>14    </td>\n",
       "        </tr>\n",
       "        <tr>\n",
       "            <td>18     </td> <td>16    </td>\n",
       "        </tr>\n",
       "        <tr>\n",
       "            <td>19     </td> <td>11    </td>\n",
       "        </tr>\n",
       "        <tr>\n",
       "            <td>20     </td> <td>23    </td>\n",
       "        </tr>\n",
       "    </tbody>\n",
       "</table>"
      ],
      "text/plain": [
       "<IPython.core.display.HTML object>"
      ]
     },
     "metadata": {},
     "output_type": "display_data"
    }
   ],
   "source": [
    "appearances = Table().with_columns(\n",
    "    'Chapter', np.arange(1,21,1),\n",
    "    'Friday', np.char.count(robinson_data.column(0), 'Friday')\n",
    "    )\n",
    "\n",
    "appearances.show()"
   ]
  },
  {
   "cell_type": "code",
   "execution_count": 24,
   "metadata": {},
   "outputs": [
    {
     "data": {
      "image/png": "[encoded data removed]",
      "text/plain": [
       "<Figure size 864x648 with 1 Axes>"
      ]
     },
     "metadata": {},
     "output_type": "display_data"
    }
   ],
   "source": [
    "appearances.plot(0,width =12, height =9)\n",
    "my_x_ticks=(np.arange(1,21,1))\n",
    "a=plots.xticks(my_x_ticks)"
   ]
  },
  {
   "cell_type": "code",
   "execution_count": 25,
   "metadata": {},
   "outputs": [
    {
     "name": "stdout",
     "output_type": "stream",
     "text": [
      "The data makes me understand that something according Friday happens after chapter 14, I can jump to chapter 14 to find the answer. The word Friday is often used as a day. It might be mentioned because Chapter 14 is on Friday. We can see chapter 15 has a huge increase so maybe it is the chapter. \n"
     ]
    }
   ],
   "source": [
    "print('The data makes me understand that something according Friday happens after chapter 14, I can jump to chapter 14 to find the answer. The word Friday is often used as a day. It might be mentioned because Chapter 14 is on Friday. We can see chapter 15 has a huge increase so maybe it is the chapter. ')"
   ]
  },
  {
   "cell_type": "code",
   "execution_count": 26,
   "metadata": {},
   "outputs": [
    {
     "name": "stdout",
     "output_type": "stream",
     "text": [
      "The chapter 16 has the most \"Friday\" and it might be interesting to analysis it as well. we can find the most common words on this chapter.\n"
     ]
    }
   ],
   "source": [
    "#4\n",
    "print('The chapter 16 has the most \"Friday\" and it might be interesting to analysis it as well. we can find the most common words on this chapter.')"
   ]
  },
  {
   "cell_type": "code",
   "execution_count": 27,
   "metadata": {},
   "outputs": [
    {
     "data": {
      "text/html": [
       "<table border=\"1\" class=\"dataframe\">\n",
       "    <thead>\n",
       "        <tr>\n",
       "            <th>Letter</th> <th>count</th>\n",
       "        </tr>\n",
       "    </thead>\n",
       "    <tbody>\n",
       "        <tr>\n",
       "            <td>the   </td> <td>316  </td>\n",
       "        </tr>\n",
       "        <tr>\n",
       "            <td>and   </td> <td>309  </td>\n",
       "        </tr>\n",
       "        <tr>\n",
       "            <td>I     </td> <td>268  </td>\n",
       "        </tr>\n",
       "        <tr>\n",
       "            <td>to    </td> <td>247  </td>\n",
       "        </tr>\n",
       "        <tr>\n",
       "            <td>of    </td> <td>169  </td>\n",
       "        </tr>\n",
       "        <tr>\n",
       "            <td>he    </td> <td>129  </td>\n",
       "        </tr>\n",
       "        <tr>\n",
       "            <td>a     </td> <td>128  </td>\n",
       "        </tr>\n",
       "        <tr>\n",
       "            <td>was   </td> <td>110  </td>\n",
       "        </tr>\n",
       "        <tr>\n",
       "            <td>as    </td> <td>102  </td>\n",
       "        </tr>\n",
       "        <tr>\n",
       "            <td>that  </td> <td>97   </td>\n",
       "        </tr>\n",
       "        <tr>\n",
       "            <td>in    </td> <td>89   </td>\n",
       "        </tr>\n",
       "        <tr>\n",
       "            <td>him   </td> <td>85   </td>\n",
       "        </tr>\n",
       "        <tr>\n",
       "            <td>with  </td> <td>80   </td>\n",
       "        </tr>\n",
       "        <tr>\n",
       "            <td>had   </td> <td>80   </td>\n",
       "        </tr>\n",
       "        <tr>\n",
       "            <td>his   </td> <td>74   </td>\n",
       "        </tr>\n",
       "        <tr>\n",
       "            <td>my    </td> <td>73   </td>\n",
       "        </tr>\n",
       "        <tr>\n",
       "            <td>for   </td> <td>57   </td>\n",
       "        </tr>\n",
       "        <tr>\n",
       "            <td>Friday</td> <td>53   </td>\n",
       "        </tr>\n",
       "        <tr>\n",
       "            <td>it    </td> <td>52   </td>\n",
       "        </tr>\n",
       "        <tr>\n",
       "            <td>so    </td> <td>51   </td>\n",
       "        </tr>\n",
       "    </tbody>\n",
       "</table>\n",
       "<p>... (1697 rows omitted)</p>"
      ],
      "text/plain": [
       "<IPython.core.display.HTML object>"
      ]
     },
     "metadata": {},
     "output_type": "display_data"
    }
   ],
   "source": [
    "letter=robinson_data.column(0).item(15).split()\n",
    "chapter1=Table().with_columns('Letter',letter)\n",
    "chapter1=chapter1.group('Letter').sort('count',descending=True)#.where('count',are.between(2,20))\n",
    "chapter1.show(20)"
   ]
  },
  {
   "cell_type": "code",
   "execution_count": 28,
   "metadata": {},
   "outputs": [
    {
     "name": "stdout",
     "output_type": "stream",
     "text": [
      "better analysis: It is interesting that the word Friday count 53 not 79. The reason might be that Friday might show with quotation marks or show as \"Fridays\" and so on. It might help analysis the data if knows the common format of a word. \n"
     ]
    }
   ],
   "source": [
    "print('better analysis: It is interesting that the word Friday count 53 not 79. The reason might be that Friday might show with quotation marks or show as \"Fridays\" and so on. It might help analysis the data if knows the common format of a word. ')"
   ]
  },
  {
   "cell_type": "code",
   "execution_count": 29,
   "metadata": {},
   "outputs": [
    {
     "name": "stdout",
     "output_type": "stream",
     "text": [
      "Another interesting thing is that, no usual name is on the list. A lot of 'he', 'him', 'his', 'my' means that it is possible to be a first \n",
      "  person novel.\n"
     ]
    }
   ],
   "source": [
    "print(\"Another interesting thing is that, no usual name is on the list. A lot of 'he', 'him', 'his', 'my' means that it is possible to be a first \\n  person novel.\" )"
   ]
  },
  {
   "cell_type": "code",
   "execution_count": null,
   "metadata": {},
   "outputs": [],
   "source": []
  }
 ],
 "metadata": {
  "kernelspec": {
   "display_name": "Python 3",
   "language": "python",
   "name": "python3"
  },
  "language_info": {
   "codemirror_mode": {
    "name": "ipython",
    "version": 3
   },
   "file_extension": ".py",
   "mimetype": "text/x-python",
   "name": "python",
   "nbconvert_exporter": "python",
   "pygments_lexer": "ipython3",
   "version": "3.7.3"
  }
 },
 "nbformat": 4,
 "nbformat_minor": 1
}
